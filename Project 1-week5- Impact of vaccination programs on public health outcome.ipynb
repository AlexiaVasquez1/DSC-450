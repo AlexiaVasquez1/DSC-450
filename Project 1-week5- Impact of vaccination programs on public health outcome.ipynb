{
 "cells": [
  {
   "cell_type": "markdown",
   "id": "c7b6872b",
   "metadata": {},
   "source": [
    "### About Dataset\n",
    "\n",
    "#### Context\n",
    "All about a focus on the impact of incentice programs across the US states to enhance vaccinations for COVID-19. It is important to track and understand the effort that is in progress across the country to administer doses of vaccinations.  This information are from the CDC that is captured and presented here. Additionally, we have tried to include the report of the JAMA Network reporting on where the incentive programs were implanted accros the country.\n",
    "\n",
    "#### Content\n",
    "There are two files.\n",
    "a) Latest Global Covid-19 Vaccine tracker of US Juridictions as of May 10, 2023\n",
    "b) US State Use of COVID-19 Vaccine Incentives (JAMA Netw Open)\n",
    "\n",
    "#### Feature Information for COVID19 vaccination Tracker file\n",
    "Jurisdiction (State/Territory) or Federal Entity,Total doses distributed,Doses distributed per 100k pop,Doses distributed by jurisdiction per 100k of 18+ pop,Total doses administered by jurisdiction, Doses administered by jurisdiction per 100k pop, Doses administered by jurisdiction to 18+ pop, Doses administered by jurisdiction per 100k of 18+ pop, Residents with at least one dose, Percent of total pop with at least one dose, Residents 18+ with at least one dose\tPercent of 18+ pop with at least one dose, Residents with a completed primary series, Percent of total pop with a completed primary series\tResidents 18+ with a completed primary series, Percent of 18+ pop with a completed primary series, Total number of original Pfizer doses distributed, Total number of Pfizer updated booster doses distributed, Total number of original Moderna doses distributed\tTotal number of Moderna updated booster doses distributed, Total number of Janssen doses distributed, Total number of Novavax doses distributed\tTotal number of doses from other manufacturer distributed, Total number of Janssen doses administered, Total number of original Moderna doses administered, Total number of Moderna updated booster doses administered, Total number of original Pfizer doses administered, Total number of Pfizer updated booster doses administered, Total number of Novavax doses administered, Total number of doses from other manufacturer administered, Residents 65+ with at least one dose, Percent of 65+ pop with at least one dose\tResidents 65+ with a completed primary series\tPercent of 65+ pop with a completed primary series\tDoses administered by jurisdiction to 65+ pop\tDoses administered by jurisdiction per 100k of 65+ pop, Doses distributed by jurisdiction per 100k of 65+ pop, Residents 12+ with at least one dose, Percent of 12+ pop with at least one dose, Residents 12+ with a completed primary series, Percent of 12+ pop with a completed primary series\tDoses administered by jurisdiction to 12+ pop\tDoses administered by jurisdiction per 100k of 12+ pop\tDoses distributed by jurisdiction per 100k of 12+ pop\tResidents 5+ with at least one dose\tPercent of 5+ pop with at least one dose\tResidents 5+ with a completed primary series\tPercent of 5+ pop with a completed primary series\tDoses administered by jurisdiction to 5+ pop, Doses administered by jurisdiction per 100k of 5+ pop\tDoses distributed by jurisdiction per 100k of 5+ pop, Residents with an updated (bivalent) booster dose\tPercent of pop with an updated (bivalent) booster dose\tResidents 5+ with an updated (bivalent) booster dose\tPercent of 5+ pop with an updated (bivalent) booster dose\tResidents 12+ with an updated (bivalent) booster dose\tPercent of 12+ pop with an updated (bivalent) booster dose\tResidents 18+ with an updated (bivalent) booster dose\tPercent of 18+ pop with an updated (bivalent) booster dose\tResidents 65+ with an updated (bivalent) booster dose\tPercent of 65+ pop with an updated (bivalent) booster dose\tChildren <5 with at least one dose\tTotal number of updated (bivalent) booster doses administered\t\n",
    "\n",
    "#### Feature Information for US State Use of COVID-19 Vaccine Incentives (JAMA Netw Open)\n",
    "Political Affiliation, Non-incentive, Covid-19 mitigation policy,Lottery,Guaranteed\n",
    "\n",
    "#### Source\n",
    "URL1: https://covid.cdc.gov/covid-data-tracker/#vaccinations_vacc-total-admin-rate-total\n",
    "\n",
    "URL2: US State Use of COVID-19 Vaccine Incentives (JAMA Netw Open. 2022 Oct; 5(10):e2235328)\n",
    "\n",
    "\n"
   ]
  },
  {
   "cell_type": "code",
   "execution_count": 2,
   "id": "6702981d",
   "metadata": {},
   "outputs": [],
   "source": [
    "#import libraries\n",
    "import pandas as pd\n",
    "import numpy as np\n",
    "import matplotlib.pyplot as plt\n",
    "import seaborn as sns\n",
    "import os\n",
    "%matplotlib inline"
   ]
  },
  {
   "cell_type": "code",
   "execution_count": 3,
   "id": "6746c796",
   "metadata": {},
   "outputs": [
    {
     "data": {
      "text/html": [
       "<div>\n",
       "<style scoped>\n",
       "    .dataframe tbody tr th:only-of-type {\n",
       "        vertical-align: middle;\n",
       "    }\n",
       "\n",
       "    .dataframe tbody tr th {\n",
       "        vertical-align: top;\n",
       "    }\n",
       "\n",
       "    .dataframe thead th {\n",
       "        text-align: right;\n",
       "    }\n",
       "</style>\n",
       "<table border=\"1\" class=\"dataframe\">\n",
       "  <thead>\n",
       "    <tr style=\"text-align: right;\">\n",
       "      <th></th>\n",
       "      <th>jurisdiction (state/territory) or federal entity</th>\n",
       "      <th>total doses distributed</th>\n",
       "      <th>doses distributed per 100k pop</th>\n",
       "      <th>doses distributed by jurisdiction per 100k of 18+ pop</th>\n",
       "      <th>total doses administered by jurisdiction</th>\n",
       "      <th>doses administered by jurisdiction per 100k pop</th>\n",
       "      <th>doses administered by jurisdiction to 18+ pop</th>\n",
       "      <th>doses administered by jurisdiction per 100k of 18+ pop</th>\n",
       "      <th>residents with at least one dose</th>\n",
       "      <th>percent of total pop with at least one dose</th>\n",
       "      <th>...</th>\n",
       "      <th>residents 18+ with an updated (bivalent) booster dose</th>\n",
       "      <th>percent of 18+ pop with an updated (bivalent) booster dose</th>\n",
       "      <th>residents 65+ with an updated (bivalent) booster dose</th>\n",
       "      <th>percent of 65+ pop with an updated (bivalent) booster dose</th>\n",
       "      <th>children &lt;5 with at least one dose</th>\n",
       "      <th>total number of updated (bivalent) booster doses administered</th>\n",
       "      <th>political affiliation</th>\n",
       "      <th>non-incentive covid-19 mitigation policy</th>\n",
       "      <th>lottery</th>\n",
       "      <th>guaranteed</th>\n",
       "    </tr>\n",
       "  </thead>\n",
       "  <tbody>\n",
       "    <tr>\n",
       "      <th>0</th>\n",
       "      <td>United States</td>\n",
       "      <td>984444295</td>\n",
       "      <td>296511</td>\n",
       "      <td>381249</td>\n",
       "      <td>676728782</td>\n",
       "      <td>203829</td>\n",
       "      <td>607682588</td>\n",
       "      <td>235339</td>\n",
       "      <td>270227181</td>\n",
       "      <td>81.4</td>\n",
       "      <td>...</td>\n",
       "      <td>52996306</td>\n",
       "      <td>20.5</td>\n",
       "      <td>23699191</td>\n",
       "      <td>43.3</td>\n",
       "      <td>1997664.0</td>\n",
       "      <td>57512608.0</td>\n",
       "      <td>2</td>\n",
       "      <td>2</td>\n",
       "      <td>2</td>\n",
       "      <td>2</td>\n",
       "    </tr>\n",
       "    <tr>\n",
       "      <th>1</th>\n",
       "      <td>Alaska</td>\n",
       "      <td>2176065</td>\n",
       "      <td>297462</td>\n",
       "      <td>394528</td>\n",
       "      <td>1328221</td>\n",
       "      <td>181564</td>\n",
       "      <td>1177565</td>\n",
       "      <td>213496</td>\n",
       "      <td>535718</td>\n",
       "      <td>73.2</td>\n",
       "      <td>...</td>\n",
       "      <td>95906</td>\n",
       "      <td>17.4</td>\n",
       "      <td>39311</td>\n",
       "      <td>42.9</td>\n",
       "      <td>NaN</td>\n",
       "      <td>NaN</td>\n",
       "      <td>R</td>\n",
       "      <td>Yes</td>\n",
       "      <td>No</td>\n",
       "      <td>No</td>\n",
       "    </tr>\n",
       "    <tr>\n",
       "      <th>2</th>\n",
       "      <td>Alabama</td>\n",
       "      <td>12349530</td>\n",
       "      <td>251868</td>\n",
       "      <td>323720</td>\n",
       "      <td>7018011</td>\n",
       "      <td>143132</td>\n",
       "      <td>6526261</td>\n",
       "      <td>171074</td>\n",
       "      <td>3193141</td>\n",
       "      <td>65.1</td>\n",
       "      <td>...</td>\n",
       "      <td>366925</td>\n",
       "      <td>9.6</td>\n",
       "      <td>202699</td>\n",
       "      <td>23.9</td>\n",
       "      <td>NaN</td>\n",
       "      <td>NaN</td>\n",
       "      <td>R</td>\n",
       "      <td>Yes</td>\n",
       "      <td>Yes</td>\n",
       "      <td>No</td>\n",
       "    </tr>\n",
       "    <tr>\n",
       "      <th>3</th>\n",
       "      <td>Arkansas</td>\n",
       "      <td>8373210</td>\n",
       "      <td>277460</td>\n",
       "      <td>361280</td>\n",
       "      <td>4874091</td>\n",
       "      <td>161511</td>\n",
       "      <td>4435479</td>\n",
       "      <td>191378</td>\n",
       "      <td>2115165</td>\n",
       "      <td>70.1</td>\n",
       "      <td>...</td>\n",
       "      <td>317694</td>\n",
       "      <td>13.7</td>\n",
       "      <td>174653</td>\n",
       "      <td>33.3</td>\n",
       "      <td>NaN</td>\n",
       "      <td>NaN</td>\n",
       "      <td>R</td>\n",
       "      <td>No</td>\n",
       "      <td>No</td>\n",
       "      <td>No</td>\n",
       "    </tr>\n",
       "    <tr>\n",
       "      <th>4</th>\n",
       "      <td>American Samoa</td>\n",
       "      <td>128480</td>\n",
       "      <td>271101</td>\n",
       "      <td>410021</td>\n",
       "      <td>115281</td>\n",
       "      <td>243250</td>\n",
       "      <td>85719</td>\n",
       "      <td>273557</td>\n",
       "      <td>46226</td>\n",
       "      <td>95.0</td>\n",
       "      <td>...</td>\n",
       "      <td>568</td>\n",
       "      <td>1.8</td>\n",
       "      <td>199</td>\n",
       "      <td>6.1</td>\n",
       "      <td>NaN</td>\n",
       "      <td>NaN</td>\n",
       "      <td>R</td>\n",
       "      <td>Yes</td>\n",
       "      <td>Yes</td>\n",
       "      <td>No</td>\n",
       "    </tr>\n",
       "  </tbody>\n",
       "</table>\n",
       "<p>5 rows × 67 columns</p>\n",
       "</div>"
      ],
      "text/plain": [
       "  jurisdiction (state/territory) or federal entity  total doses distributed  \\\n",
       "0                                    United States                984444295   \n",
       "1                                           Alaska                  2176065   \n",
       "2                                          Alabama                 12349530   \n",
       "3                                         Arkansas                  8373210   \n",
       "4                                   American Samoa                   128480   \n",
       "\n",
       "   doses distributed per 100k pop  \\\n",
       "0                          296511   \n",
       "1                          297462   \n",
       "2                          251868   \n",
       "3                          277460   \n",
       "4                          271101   \n",
       "\n",
       "   doses distributed by jurisdiction per 100k of 18+ pop  \\\n",
       "0                                             381249       \n",
       "1                                             394528       \n",
       "2                                             323720       \n",
       "3                                             361280       \n",
       "4                                             410021       \n",
       "\n",
       "   total doses administered by jurisdiction  \\\n",
       "0                                 676728782   \n",
       "1                                   1328221   \n",
       "2                                   7018011   \n",
       "3                                   4874091   \n",
       "4                                    115281   \n",
       "\n",
       "   doses administered by jurisdiction per 100k pop  \\\n",
       "0                                           203829   \n",
       "1                                           181564   \n",
       "2                                           143132   \n",
       "3                                           161511   \n",
       "4                                           243250   \n",
       "\n",
       "   doses administered by jurisdiction to 18+ pop  \\\n",
       "0                                      607682588   \n",
       "1                                        1177565   \n",
       "2                                        6526261   \n",
       "3                                        4435479   \n",
       "4                                          85719   \n",
       "\n",
       "   doses administered by jurisdiction per 100k of 18+ pop  \\\n",
       "0                                             235339        \n",
       "1                                             213496        \n",
       "2                                             171074        \n",
       "3                                             191378        \n",
       "4                                             273557        \n",
       "\n",
       "   residents with at least one dose  \\\n",
       "0                         270227181   \n",
       "1                            535718   \n",
       "2                           3193141   \n",
       "3                           2115165   \n",
       "4                             46226   \n",
       "\n",
       "   percent of total pop with at least one dose  ...  \\\n",
       "0                                         81.4  ...   \n",
       "1                                         73.2  ...   \n",
       "2                                         65.1  ...   \n",
       "3                                         70.1  ...   \n",
       "4                                         95.0  ...   \n",
       "\n",
       "   residents 18+ with an updated (bivalent) booster dose  \\\n",
       "0                                           52996306       \n",
       "1                                              95906       \n",
       "2                                             366925       \n",
       "3                                             317694       \n",
       "4                                                568       \n",
       "\n",
       "   percent of 18+ pop with an updated (bivalent) booster dose  \\\n",
       "0                                               20.5            \n",
       "1                                               17.4            \n",
       "2                                                9.6            \n",
       "3                                               13.7            \n",
       "4                                                1.8            \n",
       "\n",
       "   residents 65+ with an updated (bivalent) booster dose  \\\n",
       "0                                           23699191       \n",
       "1                                              39311       \n",
       "2                                             202699       \n",
       "3                                             174653       \n",
       "4                                                199       \n",
       "\n",
       "   percent of 65+ pop with an updated (bivalent) booster dose  \\\n",
       "0                                               43.3            \n",
       "1                                               42.9            \n",
       "2                                               23.9            \n",
       "3                                               33.3            \n",
       "4                                                6.1            \n",
       "\n",
       "   children <5 with at least one dose  \\\n",
       "0                           1997664.0   \n",
       "1                                 NaN   \n",
       "2                                 NaN   \n",
       "3                                 NaN   \n",
       "4                                 NaN   \n",
       "\n",
       "   total number of updated (bivalent) booster doses administered  \\\n",
       "0                                         57512608.0               \n",
       "1                                                NaN               \n",
       "2                                                NaN               \n",
       "3                                                NaN               \n",
       "4                                                NaN               \n",
       "\n",
       "   political affiliation  non-incentive covid-19 mitigation policy  lottery  \\\n",
       "0                      2                                         2        2   \n",
       "1                      R                                       Yes       No   \n",
       "2                      R                                       Yes      Yes   \n",
       "3                      R                                        No       No   \n",
       "4                      R                                       Yes      Yes   \n",
       "\n",
       "   guaranteed  \n",
       "0           2  \n",
       "1          No  \n",
       "2          No  \n",
       "3          No  \n",
       "4          No  \n",
       "\n",
       "[5 rows x 67 columns]"
      ]
     },
     "execution_count": 3,
     "metadata": {},
     "output_type": "execute_result"
    }
   ],
   "source": [
    "# import data\n",
    "data=pd.read_csv('USA_convid 19_vaccines_2023.csv')\n",
    "data.rename(columns=lambda x: x.lower(), inplace=True)\n",
    "data.rename(columns={}, inplace=True)\n",
    "\n",
    "data.head()"
   ]
  },
  {
   "cell_type": "markdown",
   "id": "b5609593",
   "metadata": {},
   "source": [
    "### 1. Data Cleaning and Processing"
   ]
  },
  {
   "cell_type": "code",
   "execution_count": 4,
   "id": "47b09baa",
   "metadata": {},
   "outputs": [
    {
     "data": {
      "text/plain": [
       "jurisdiction (state/territory) or federal entity                  object\n",
       "total doses distributed                                            int64\n",
       "doses distributed per 100k pop                                     int64\n",
       "doses distributed by jurisdiction per 100k of 18+ pop              int64\n",
       "total doses administered by jurisdiction                           int64\n",
       "                                                                  ...   \n",
       "total number of updated (bivalent) booster doses administered    float64\n",
       "political affiliation                                             object\n",
       "non-incentive covid-19 mitigation policy                          object\n",
       "lottery                                                           object\n",
       "guaranteed                                                        object\n",
       "Length: 67, dtype: object"
      ]
     },
     "execution_count": 4,
     "metadata": {},
     "output_type": "execute_result"
    }
   ],
   "source": [
    "data.dtypes \n",
    "#To know whether I'm dealing with numerical or categorical data"
   ]
  },
  {
   "cell_type": "code",
   "execution_count": 5,
   "id": "7eb09ffc",
   "metadata": {},
   "outputs": [
    {
     "data": {
      "text/plain": [
       "(59, 67)"
      ]
     },
     "execution_count": 5,
     "metadata": {},
     "output_type": "execute_result"
    }
   ],
   "source": [
    "#data size\n",
    "data.shape"
   ]
  },
  {
   "cell_type": "code",
   "execution_count": 6,
   "id": "243aaa5b",
   "metadata": {},
   "outputs": [
    {
     "data": {
      "text/plain": [
       "jurisdiction (state/territory) or federal entity                  0\n",
       "total doses distributed                                           0\n",
       "doses distributed per 100k pop                                    0\n",
       "doses distributed by jurisdiction per 100k of 18+ pop             0\n",
       "total doses administered by jurisdiction                          0\n",
       "                                                                 ..\n",
       "total number of updated (bivalent) booster doses administered    58\n",
       "political affiliation                                             0\n",
       "non-incentive covid-19 mitigation policy                          0\n",
       "lottery                                                           0\n",
       "guaranteed                                                        0\n",
       "Length: 67, dtype: int64"
      ]
     },
     "execution_count": 6,
     "metadata": {},
     "output_type": "execute_result"
    }
   ],
   "source": [
    "#missing values\n",
    "data.isnull().sum()"
   ]
  },
  {
   "cell_type": "markdown",
   "id": "c56e4d54",
   "metadata": {},
   "source": [
    "#### As I can see here, there are some missing values in this case. The number of updated (bivalent) booster doses administered is missing 58 values."
   ]
  },
  {
   "cell_type": "code",
   "execution_count": 7,
   "id": "3f5483d3",
   "metadata": {},
   "outputs": [
    {
     "data": {
      "text/plain": [
       "0"
      ]
     },
     "execution_count": 7,
     "metadata": {},
     "output_type": "execute_result"
    }
   ],
   "source": [
    "# check duplicated values\n",
    "data.duplicated().sum()"
   ]
  },
  {
   "cell_type": "code",
   "execution_count": 8,
   "id": "c0b820c5",
   "metadata": {},
   "outputs": [],
   "source": [
    "#clean data to remove Nan values\n",
    "clean_df = data.dropna()\n"
   ]
  },
  {
   "cell_type": "code",
   "execution_count": 9,
   "id": "db16fc1a",
   "metadata": {},
   "outputs": [
    {
     "data": {
      "text/html": [
       "<div>\n",
       "<style scoped>\n",
       "    .dataframe tbody tr th:only-of-type {\n",
       "        vertical-align: middle;\n",
       "    }\n",
       "\n",
       "    .dataframe tbody tr th {\n",
       "        vertical-align: top;\n",
       "    }\n",
       "\n",
       "    .dataframe thead th {\n",
       "        text-align: right;\n",
       "    }\n",
       "</style>\n",
       "<table border=\"1\" class=\"dataframe\">\n",
       "  <thead>\n",
       "    <tr style=\"text-align: right;\">\n",
       "      <th></th>\n",
       "      <th>count</th>\n",
       "      <th>mean</th>\n",
       "      <th>std</th>\n",
       "      <th>min</th>\n",
       "      <th>25%</th>\n",
       "      <th>50%</th>\n",
       "      <th>75%</th>\n",
       "      <th>max</th>\n",
       "    </tr>\n",
       "  </thead>\n",
       "  <tbody>\n",
       "    <tr>\n",
       "      <th>total doses distributed</th>\n",
       "      <td>59.0</td>\n",
       "      <td>3.335010e+07</td>\n",
       "      <td>1.277474e+08</td>\n",
       "      <td>52580.0</td>\n",
       "      <td>4104697.50</td>\n",
       "      <td>9702330.0</td>\n",
       "      <td>23053630.0</td>\n",
       "      <td>984444295.0</td>\n",
       "    </tr>\n",
       "    <tr>\n",
       "      <th>doses distributed per 100k pop</th>\n",
       "      <td>59.0</td>\n",
       "      <td>2.916893e+05</td>\n",
       "      <td>4.630548e+04</td>\n",
       "      <td>163045.0</td>\n",
       "      <td>264295.00</td>\n",
       "      <td>286467.0</td>\n",
       "      <td>321751.0</td>\n",
       "      <td>414902.0</td>\n",
       "    </tr>\n",
       "    <tr>\n",
       "      <th>doses distributed by jurisdiction per 100k of 18+ pop</th>\n",
       "      <td>59.0</td>\n",
       "      <td>3.781212e+05</td>\n",
       "      <td>5.240683e+04</td>\n",
       "      <td>212620.0</td>\n",
       "      <td>344657.50</td>\n",
       "      <td>377609.0</td>\n",
       "      <td>415898.0</td>\n",
       "      <td>507651.0</td>\n",
       "    </tr>\n",
       "    <tr>\n",
       "      <th>total doses administered by jurisdiction</th>\n",
       "      <td>59.0</td>\n",
       "      <td>2.286809e+07</td>\n",
       "      <td>8.788561e+07</td>\n",
       "      <td>51971.0</td>\n",
       "      <td>2783226.50</td>\n",
       "      <td>6961453.0</td>\n",
       "      <td>15923529.5</td>\n",
       "      <td>676728782.0</td>\n",
       "    </tr>\n",
       "    <tr>\n",
       "      <th>doses administered by jurisdiction per 100k pop</th>\n",
       "      <td>59.0</td>\n",
       "      <td>2.025454e+05</td>\n",
       "      <td>3.813033e+04</td>\n",
       "      <td>130997.0</td>\n",
       "      <td>171858.00</td>\n",
       "      <td>197590.0</td>\n",
       "      <td>228603.0</td>\n",
       "      <td>302852.0</td>\n",
       "    </tr>\n",
       "    <tr>\n",
       "      <th>...</th>\n",
       "      <td>...</td>\n",
       "      <td>...</td>\n",
       "      <td>...</td>\n",
       "      <td>...</td>\n",
       "      <td>...</td>\n",
       "      <td>...</td>\n",
       "      <td>...</td>\n",
       "      <td>...</td>\n",
       "    </tr>\n",
       "    <tr>\n",
       "      <th>percent of 18+ pop with an updated (bivalent) booster dose</th>\n",
       "      <td>59.0</td>\n",
       "      <td>2.026102e+01</td>\n",
       "      <td>7.950103e+00</td>\n",
       "      <td>1.8</td>\n",
       "      <td>14.30</td>\n",
       "      <td>19.5</td>\n",
       "      <td>25.8</td>\n",
       "      <td>38.6</td>\n",
       "    </tr>\n",
       "    <tr>\n",
       "      <th>residents 65+ with an updated (bivalent) booster dose</th>\n",
       "      <td>59.0</td>\n",
       "      <td>8.027164e+05</td>\n",
       "      <td>3.070047e+06</td>\n",
       "      <td>199.0</td>\n",
       "      <td>111877.00</td>\n",
       "      <td>213868.0</td>\n",
       "      <td>599121.0</td>\n",
       "      <td>23699191.0</td>\n",
       "    </tr>\n",
       "    <tr>\n",
       "      <th>percent of 65+ pop with an updated (bivalent) booster dose</th>\n",
       "      <td>59.0</td>\n",
       "      <td>4.238644e+01</td>\n",
       "      <td>1.466346e+01</td>\n",
       "      <td>6.1</td>\n",
       "      <td>33.45</td>\n",
       "      <td>42.9</td>\n",
       "      <td>53.2</td>\n",
       "      <td>71.2</td>\n",
       "    </tr>\n",
       "    <tr>\n",
       "      <th>children &lt;5 with at least one dose</th>\n",
       "      <td>1.0</td>\n",
       "      <td>1.997664e+06</td>\n",
       "      <td>NaN</td>\n",
       "      <td>1997664.0</td>\n",
       "      <td>1997664.00</td>\n",
       "      <td>1997664.0</td>\n",
       "      <td>1997664.0</td>\n",
       "      <td>1997664.0</td>\n",
       "    </tr>\n",
       "    <tr>\n",
       "      <th>total number of updated (bivalent) booster doses administered</th>\n",
       "      <td>1.0</td>\n",
       "      <td>5.751261e+07</td>\n",
       "      <td>NaN</td>\n",
       "      <td>57512608.0</td>\n",
       "      <td>57512608.00</td>\n",
       "      <td>57512608.0</td>\n",
       "      <td>57512608.0</td>\n",
       "      <td>57512608.0</td>\n",
       "    </tr>\n",
       "  </tbody>\n",
       "</table>\n",
       "<p>62 rows × 8 columns</p>\n",
       "</div>"
      ],
      "text/plain": [
       "                                                    count          mean  \\\n",
       "total doses distributed                              59.0  3.335010e+07   \n",
       "doses distributed per 100k pop                       59.0  2.916893e+05   \n",
       "doses distributed by jurisdiction per 100k of 1...   59.0  3.781212e+05   \n",
       "total doses administered by jurisdiction             59.0  2.286809e+07   \n",
       "doses administered by jurisdiction per 100k pop      59.0  2.025454e+05   \n",
       "...                                                   ...           ...   \n",
       "percent of 18+ pop with an updated (bivalent) b...   59.0  2.026102e+01   \n",
       "residents 65+ with an updated (bivalent) booste...   59.0  8.027164e+05   \n",
       "percent of 65+ pop with an updated (bivalent) b...   59.0  4.238644e+01   \n",
       "children <5 with at least one dose                    1.0  1.997664e+06   \n",
       "total number of updated (bivalent) booster dose...    1.0  5.751261e+07   \n",
       "\n",
       "                                                             std         min  \\\n",
       "total doses distributed                             1.277474e+08     52580.0   \n",
       "doses distributed per 100k pop                      4.630548e+04    163045.0   \n",
       "doses distributed by jurisdiction per 100k of 1...  5.240683e+04    212620.0   \n",
       "total doses administered by jurisdiction            8.788561e+07     51971.0   \n",
       "doses administered by jurisdiction per 100k pop     3.813033e+04    130997.0   \n",
       "...                                                          ...         ...   \n",
       "percent of 18+ pop with an updated (bivalent) b...  7.950103e+00         1.8   \n",
       "residents 65+ with an updated (bivalent) booste...  3.070047e+06       199.0   \n",
       "percent of 65+ pop with an updated (bivalent) b...  1.466346e+01         6.1   \n",
       "children <5 with at least one dose                           NaN   1997664.0   \n",
       "total number of updated (bivalent) booster dose...           NaN  57512608.0   \n",
       "\n",
       "                                                            25%         50%  \\\n",
       "total doses distributed                              4104697.50   9702330.0   \n",
       "doses distributed per 100k pop                        264295.00    286467.0   \n",
       "doses distributed by jurisdiction per 100k of 1...    344657.50    377609.0   \n",
       "total doses administered by jurisdiction             2783226.50   6961453.0   \n",
       "doses administered by jurisdiction per 100k pop       171858.00    197590.0   \n",
       "...                                                         ...         ...   \n",
       "percent of 18+ pop with an updated (bivalent) b...        14.30        19.5   \n",
       "residents 65+ with an updated (bivalent) booste...    111877.00    213868.0   \n",
       "percent of 65+ pop with an updated (bivalent) b...        33.45        42.9   \n",
       "children <5 with at least one dose                   1997664.00   1997664.0   \n",
       "total number of updated (bivalent) booster dose...  57512608.00  57512608.0   \n",
       "\n",
       "                                                           75%          max  \n",
       "total doses distributed                             23053630.0  984444295.0  \n",
       "doses distributed per 100k pop                        321751.0     414902.0  \n",
       "doses distributed by jurisdiction per 100k of 1...    415898.0     507651.0  \n",
       "total doses administered by jurisdiction            15923529.5  676728782.0  \n",
       "doses administered by jurisdiction per 100k pop       228603.0     302852.0  \n",
       "...                                                        ...          ...  \n",
       "percent of 18+ pop with an updated (bivalent) b...        25.8         38.6  \n",
       "residents 65+ with an updated (bivalent) booste...    599121.0   23699191.0  \n",
       "percent of 65+ pop with an updated (bivalent) b...        53.2         71.2  \n",
       "children <5 with at least one dose                   1997664.0    1997664.0  \n",
       "total number of updated (bivalent) booster dose...  57512608.0   57512608.0  \n",
       "\n",
       "[62 rows x 8 columns]"
      ]
     },
     "execution_count": 9,
     "metadata": {},
     "output_type": "execute_result"
    }
   ],
   "source": [
    "# getting the statistical summary of dataset\n",
    "data.describe().T"
   ]
  },
  {
   "cell_type": "code",
   "execution_count": 10,
   "id": "dfec273f",
   "metadata": {},
   "outputs": [
    {
     "data": {
      "text/html": [
       "<div>\n",
       "<style scoped>\n",
       "    .dataframe tbody tr th:only-of-type {\n",
       "        vertical-align: middle;\n",
       "    }\n",
       "\n",
       "    .dataframe tbody tr th {\n",
       "        vertical-align: top;\n",
       "    }\n",
       "\n",
       "    .dataframe thead th {\n",
       "        text-align: right;\n",
       "    }\n",
       "</style>\n",
       "<table border=\"1\" class=\"dataframe\">\n",
       "  <thead>\n",
       "    <tr style=\"text-align: right;\">\n",
       "      <th></th>\n",
       "      <th>jurisdiction (state/territory) or federal entity</th>\n",
       "      <th>total doses distributed</th>\n",
       "      <th>doses distributed per 100k pop</th>\n",
       "      <th>doses distributed by jurisdiction per 100k of 18+ pop</th>\n",
       "      <th>total doses administered by jurisdiction</th>\n",
       "      <th>doses administered by jurisdiction per 100k pop</th>\n",
       "      <th>doses administered by jurisdiction to 18+ pop</th>\n",
       "      <th>doses administered by jurisdiction per 100k of 18+ pop</th>\n",
       "      <th>residents with at least one dose</th>\n",
       "      <th>percent of total pop with at least one dose</th>\n",
       "      <th>...</th>\n",
       "      <th>residents 18+ with an updated (bivalent) booster dose</th>\n",
       "      <th>percent of 18+ pop with an updated (bivalent) booster dose</th>\n",
       "      <th>residents 65+ with an updated (bivalent) booster dose</th>\n",
       "      <th>percent of 65+ pop with an updated (bivalent) booster dose</th>\n",
       "      <th>children &lt;5 with at least one dose</th>\n",
       "      <th>total number of updated (bivalent) booster doses administered</th>\n",
       "      <th>political affiliation</th>\n",
       "      <th>non-incentive covid-19 mitigation policy</th>\n",
       "      <th>lottery</th>\n",
       "      <th>guaranteed</th>\n",
       "    </tr>\n",
       "  </thead>\n",
       "  <tbody>\n",
       "  </tbody>\n",
       "</table>\n",
       "<p>0 rows × 67 columns</p>\n",
       "</div>"
      ],
      "text/plain": [
       "Empty DataFrame\n",
       "Columns: [jurisdiction (state/territory) or federal entity, total doses distributed, doses distributed per 100k pop, doses distributed by jurisdiction per 100k of 18+ pop, total doses administered by jurisdiction, doses administered by jurisdiction per 100k pop, doses administered by jurisdiction to 18+ pop, doses administered by jurisdiction per 100k of 18+ pop, residents with at least one dose, percent of total pop with at least one dose, residents 18+ with at least one dose, percent of 18+ pop with at least one dose, residents with a completed primary series, percent of total pop with a completed primary series, residents 18+ with a completed primary series, percent of 18+ pop with a completed primary series, total number of original pfizer doses distributed, total number of pfizer updated booster doses distributed, total number of original moderna doses distributed, total number of moderna updated booster doses distributed, total number of janssen doses distributed, total number of novavax doses distributed, total number of doses from other manufacturer distributed, total number of janssen doses administered, total number of original moderna doses administered, total number of moderna updated booster doses administered, total number of original pfizer doses administered, total number of pfizer updated booster doses administered, total number of novavax doses administered, total number of doses from other manufacturer administered, residents 65+ with at least one dose, percent of 65+ pop with at least one dose, residents 65+ with a completed primary series, percent of 65+ pop with a completed primary series, doses administered by jurisdiction to 65+ pop, doses administered by jurisdiction per 100k of 65+ pop, doses distributed by jurisdiction per 100k of 65+ pop, residents 12+ with at least one dose, percent of 12+ pop with at least one dose, residents 12+ with a completed primary series, percent of 12+ pop with a completed primary series, doses administered by jurisdiction to 12+ pop, doses administered by jurisdiction per 100k of 12+ pop, doses distributed by jurisdiction per 100k of 12+ pop, residents 5+ with at least one dose, percent of 5+ pop with at least one dose, residents 5+ with a completed primary series, percent of 5+ pop with a completed primary series, doses administered by jurisdiction to 5+ pop, doses administered by jurisdiction per 100k of 5+ pop, doses distributed by jurisdiction per 100k of 5+ pop, residents with an updated (bivalent) booster dose, percent of pop with an updated (bivalent) booster dose, residents 5+ with an updated (bivalent) booster dose, percent of 5+ pop with an updated (bivalent) booster dose, residents 12+ with an updated (bivalent) booster dose, percent of 12+ pop with an updated (bivalent) booster dose, residents 18+ with an updated (bivalent) booster dose, percent of 18+ pop with an updated (bivalent) booster dose, residents 65+ with an updated (bivalent) booster dose, percent of 65+ pop with an updated (bivalent) booster dose, children <5 with at least one dose, total number of updated (bivalent) booster doses administered, political affiliation, non-incentive covid-19 mitigation policy, lottery, guaranteed]\n",
       "Index: []\n",
       "\n",
       "[0 rows x 67 columns]"
      ]
     },
     "execution_count": 10,
     "metadata": {},
     "output_type": "execute_result"
    }
   ],
   "source": [
    "#Checking the values of x equal to zero\n",
    "data.loc[data['lottery']==0]\n"
   ]
  },
  {
   "cell_type": "markdown",
   "id": "563f570b",
   "metadata": {},
   "source": [
    "### Hot encoding and transformations"
   ]
  },
  {
   "cell_type": "code",
   "execution_count": 11,
   "id": "2da948fa",
   "metadata": {},
   "outputs": [
    {
     "data": {
      "text/html": [
       "<div>\n",
       "<style scoped>\n",
       "    .dataframe tbody tr th:only-of-type {\n",
       "        vertical-align: middle;\n",
       "    }\n",
       "\n",
       "    .dataframe tbody tr th {\n",
       "        vertical-align: top;\n",
       "    }\n",
       "\n",
       "    .dataframe thead th {\n",
       "        text-align: right;\n",
       "    }\n",
       "</style>\n",
       "<table border=\"1\" class=\"dataframe\">\n",
       "  <thead>\n",
       "    <tr style=\"text-align: right;\">\n",
       "      <th></th>\n",
       "      <th>guaranteed_2</th>\n",
       "      <th>guaranteed_No</th>\n",
       "      <th>guaranteed_Yes</th>\n",
       "    </tr>\n",
       "  </thead>\n",
       "  <tbody>\n",
       "    <tr>\n",
       "      <th>0</th>\n",
       "      <td>True</td>\n",
       "      <td>False</td>\n",
       "      <td>False</td>\n",
       "    </tr>\n",
       "    <tr>\n",
       "      <th>1</th>\n",
       "      <td>False</td>\n",
       "      <td>True</td>\n",
       "      <td>False</td>\n",
       "    </tr>\n",
       "    <tr>\n",
       "      <th>2</th>\n",
       "      <td>False</td>\n",
       "      <td>True</td>\n",
       "      <td>False</td>\n",
       "    </tr>\n",
       "    <tr>\n",
       "      <th>3</th>\n",
       "      <td>False</td>\n",
       "      <td>True</td>\n",
       "      <td>False</td>\n",
       "    </tr>\n",
       "    <tr>\n",
       "      <th>4</th>\n",
       "      <td>False</td>\n",
       "      <td>True</td>\n",
       "      <td>False</td>\n",
       "    </tr>\n",
       "  </tbody>\n",
       "</table>\n",
       "</div>"
      ],
      "text/plain": [
       "   guaranteed_2  guaranteed_No  guaranteed_Yes\n",
       "0          True          False           False\n",
       "1         False           True           False\n",
       "2         False           True           False\n",
       "3         False           True           False\n",
       "4         False           True           False"
      ]
     },
     "execution_count": 11,
     "metadata": {},
     "output_type": "execute_result"
    }
   ],
   "source": [
    "pd.get_dummies(data['political affiliation'], prefix='political').head()\n",
    "pd.get_dummies(data['non-incentive covid-19 mitigation policy'], prefix='NonIncentive').head()\n",
    "pd.get_dummies(data['lottery'], prefix='lottery').head()\n",
    "pd.get_dummies(data['guaranteed'], prefix='guaranteed').head()\n"
   ]
  },
  {
   "cell_type": "code",
   "execution_count": 12,
   "id": "336d0e3e",
   "metadata": {},
   "outputs": [
    {
     "data": {
      "text/html": [
       "<div>\n",
       "<style scoped>\n",
       "    .dataframe tbody tr th:only-of-type {\n",
       "        vertical-align: middle;\n",
       "    }\n",
       "\n",
       "    .dataframe tbody tr th {\n",
       "        vertical-align: top;\n",
       "    }\n",
       "\n",
       "    .dataframe thead th {\n",
       "        text-align: right;\n",
       "    }\n",
       "</style>\n",
       "<table border=\"1\" class=\"dataframe\">\n",
       "  <thead>\n",
       "    <tr style=\"text-align: right;\">\n",
       "      <th></th>\n",
       "      <th>guaranteed_No</th>\n",
       "      <th>guaranteed_Yes</th>\n",
       "    </tr>\n",
       "  </thead>\n",
       "  <tbody>\n",
       "    <tr>\n",
       "      <th>0</th>\n",
       "      <td>False</td>\n",
       "      <td>False</td>\n",
       "    </tr>\n",
       "    <tr>\n",
       "      <th>1</th>\n",
       "      <td>True</td>\n",
       "      <td>False</td>\n",
       "    </tr>\n",
       "    <tr>\n",
       "      <th>2</th>\n",
       "      <td>True</td>\n",
       "      <td>False</td>\n",
       "    </tr>\n",
       "    <tr>\n",
       "      <th>3</th>\n",
       "      <td>True</td>\n",
       "      <td>False</td>\n",
       "    </tr>\n",
       "    <tr>\n",
       "      <th>4</th>\n",
       "      <td>True</td>\n",
       "      <td>False</td>\n",
       "    </tr>\n",
       "  </tbody>\n",
       "</table>\n",
       "</div>"
      ],
      "text/plain": [
       "   guaranteed_No  guaranteed_Yes\n",
       "0          False           False\n",
       "1           True           False\n",
       "2           True           False\n",
       "3           True           False\n",
       "4           True           False"
      ]
     },
     "execution_count": 12,
     "metadata": {},
     "output_type": "execute_result"
    }
   ],
   "source": [
    "pd.get_dummies(data['guaranteed'], prefix='guaranteed', drop_first=True).head()"
   ]
  },
  {
   "cell_type": "code",
   "execution_count": 13,
   "id": "fc4bff18",
   "metadata": {},
   "outputs": [],
   "source": [
    "##Adding the one-hot encoded categorical features\n",
    "data = pd.concat([data, pd.get_dummies(data['political affiliation'], prefix='political', drop_first=True)], axis=1)\n",
    "data = pd.concat([data, pd.get_dummies(data['non-incentive covid-19 mitigation policy'], prefix='NonIncentive', drop_first=True)], axis=1)\n",
    "data = pd.concat([data, pd.get_dummies(data['lottery'], prefix='lottery', drop_first=True)], axis=1)\n",
    "data = pd.concat([data, pd.get_dummies(data['guaranteed'], prefix='guaranteed', drop_first=True)], axis=1 )                "
   ]
  },
  {
   "cell_type": "markdown",
   "id": "c25c2445",
   "metadata": {},
   "source": [
    "### Bivariate EDA"
   ]
  },
  {
   "cell_type": "code",
   "execution_count": 14,
   "id": "98a8fa32",
   "metadata": {},
   "outputs": [],
   "source": [
    "numerical_features = ['total doses distributed', 'residents with at least one dose', 'total doses administered by jurisdiction']\n",
    "categorical_features = ['lottery', 'guaranteed', 'jurisdiction (state/territory) or federal entity']"
   ]
  },
  {
   "cell_type": "code",
   "execution_count": 30,
   "id": "1b7012e3",
   "metadata": {},
   "outputs": [],
   "source": [
    "def desc_num_feature(feature_name, bins=30, edgecolor='k', **kwargs):\n",
    "    fig, ax = plt.subplots(figsize=(8,4))\n",
    "    data[feature_name].hist(bins=bins, edgecolor=edgecolor, ax=ax, **kwargs)\n",
    "    ax.set_title(feature_name, size=15)\n",
    "    plt.figtext(1,0.15, str(data[feature_name].describe().round(2).astype(str)), size=17)"
   ]
  },
  {
   "cell_type": "code",
   "execution_count": 31,
   "id": "8a88d657",
   "metadata": {},
   "outputs": [
    {
     "data": {
      "image/png": "[encoded data removed]",
      "text/plain": [
       "<Figure size 800x400 with 1 Axes>"
      ]
     },
     "metadata": {},
     "output_type": "display_data"
    }
   ],
   "source": [
    "desc_num_feature('total doses distributed')"
   ]
  },
  {
   "cell_type": "code",
   "execution_count": 33,
   "id": "94aebe28",
   "metadata": {},
   "outputs": [
    {
     "name": "stdout",
     "output_type": "stream",
     "text": [
      "         count  percent\n",
      "lottery                \n",
      "No          31     52.5\n",
      "Yes         27     45.8\n",
      "2            1      1.7\n"
     ]
    },
    {
     "data": {
      "image/png": "[encoded data removed]",
      "text/plain": [
       "<Figure size 640x480 with 1 Axes>"
      ]
     },
     "metadata": {},
     "output_type": "display_data"
    }
   ],
   "source": [
    "feature = categorical_features[0]\n",
    "count = data[feature].value_counts()\n",
    "percent = 100*data[feature].value_counts(normalize=True)\n",
    "df = pd.DataFrame({'count':count, 'percent':percent.round(1)})\n",
    "print(df)\n",
    "count.plot(kind='bar', title=feature);"
   ]
  },
  {
   "cell_type": "code",
   "execution_count": 34,
   "id": "e463b63f",
   "metadata": {},
   "outputs": [
    {
     "data": {
      "text/html": [
       "<div>\n",
       "<style scoped>\n",
       "    .dataframe tbody tr th:only-of-type {\n",
       "        vertical-align: middle;\n",
       "    }\n",
       "\n",
       "    .dataframe tbody tr th {\n",
       "        vertical-align: top;\n",
       "    }\n",
       "\n",
       "    .dataframe thead th {\n",
       "        text-align: right;\n",
       "    }\n",
       "</style>\n",
       "<table border=\"1\" class=\"dataframe\">\n",
       "  <thead>\n",
       "    <tr style=\"text-align: right;\">\n",
       "      <th>lottery</th>\n",
       "      <th>2</th>\n",
       "      <th>No</th>\n",
       "      <th>Yes</th>\n",
       "    </tr>\n",
       "    <tr>\n",
       "      <th>jurisdiction (state/territory) or federal entity</th>\n",
       "      <th></th>\n",
       "      <th></th>\n",
       "      <th></th>\n",
       "    </tr>\n",
       "  </thead>\n",
       "  <tbody>\n",
       "    <tr>\n",
       "      <th>Alabama</th>\n",
       "      <td>0</td>\n",
       "      <td>0</td>\n",
       "      <td>1</td>\n",
       "    </tr>\n",
       "    <tr>\n",
       "      <th>Alaska</th>\n",
       "      <td>0</td>\n",
       "      <td>1</td>\n",
       "      <td>0</td>\n",
       "    </tr>\n",
       "    <tr>\n",
       "      <th>American Samoa</th>\n",
       "      <td>0</td>\n",
       "      <td>0</td>\n",
       "      <td>1</td>\n",
       "    </tr>\n",
       "    <tr>\n",
       "      <th>Arizona</th>\n",
       "      <td>0</td>\n",
       "      <td>0</td>\n",
       "      <td>1</td>\n",
       "    </tr>\n",
       "    <tr>\n",
       "      <th>Arkansas</th>\n",
       "      <td>0</td>\n",
       "      <td>1</td>\n",
       "      <td>0</td>\n",
       "    </tr>\n",
       "    <tr>\n",
       "      <th>California</th>\n",
       "      <td>0</td>\n",
       "      <td>1</td>\n",
       "      <td>0</td>\n",
       "    </tr>\n",
       "    <tr>\n",
       "      <th>Colorado</th>\n",
       "      <td>0</td>\n",
       "      <td>0</td>\n",
       "      <td>1</td>\n",
       "    </tr>\n",
       "    <tr>\n",
       "      <th>Connecticut</th>\n",
       "      <td>0</td>\n",
       "      <td>1</td>\n",
       "      <td>0</td>\n",
       "    </tr>\n",
       "    <tr>\n",
       "      <th>Delaware</th>\n",
       "      <td>0</td>\n",
       "      <td>0</td>\n",
       "      <td>1</td>\n",
       "    </tr>\n",
       "    <tr>\n",
       "      <th>District of Columbia</th>\n",
       "      <td>0</td>\n",
       "      <td>1</td>\n",
       "      <td>0</td>\n",
       "    </tr>\n",
       "    <tr>\n",
       "      <th>Federated States of Micronesia</th>\n",
       "      <td>0</td>\n",
       "      <td>0</td>\n",
       "      <td>1</td>\n",
       "    </tr>\n",
       "    <tr>\n",
       "      <th>Florida</th>\n",
       "      <td>0</td>\n",
       "      <td>1</td>\n",
       "      <td>0</td>\n",
       "    </tr>\n",
       "    <tr>\n",
       "      <th>Georgia</th>\n",
       "      <td>0</td>\n",
       "      <td>1</td>\n",
       "      <td>0</td>\n",
       "    </tr>\n",
       "    <tr>\n",
       "      <th>Guam</th>\n",
       "      <td>0</td>\n",
       "      <td>1</td>\n",
       "      <td>0</td>\n",
       "    </tr>\n",
       "    <tr>\n",
       "      <th>Hawaii</th>\n",
       "      <td>0</td>\n",
       "      <td>1</td>\n",
       "      <td>0</td>\n",
       "    </tr>\n",
       "    <tr>\n",
       "      <th>Idaho</th>\n",
       "      <td>0</td>\n",
       "      <td>0</td>\n",
       "      <td>1</td>\n",
       "    </tr>\n",
       "    <tr>\n",
       "      <th>Illinois</th>\n",
       "      <td>0</td>\n",
       "      <td>0</td>\n",
       "      <td>1</td>\n",
       "    </tr>\n",
       "    <tr>\n",
       "      <th>Indiana</th>\n",
       "      <td>0</td>\n",
       "      <td>0</td>\n",
       "      <td>1</td>\n",
       "    </tr>\n",
       "    <tr>\n",
       "      <th>Iowa</th>\n",
       "      <td>0</td>\n",
       "      <td>0</td>\n",
       "      <td>1</td>\n",
       "    </tr>\n",
       "    <tr>\n",
       "      <th>Kansas</th>\n",
       "      <td>0</td>\n",
       "      <td>0</td>\n",
       "      <td>1</td>\n",
       "    </tr>\n",
       "    <tr>\n",
       "      <th>Kentucky</th>\n",
       "      <td>0</td>\n",
       "      <td>1</td>\n",
       "      <td>0</td>\n",
       "    </tr>\n",
       "    <tr>\n",
       "      <th>Louisiana</th>\n",
       "      <td>0</td>\n",
       "      <td>1</td>\n",
       "      <td>0</td>\n",
       "    </tr>\n",
       "    <tr>\n",
       "      <th>Maine</th>\n",
       "      <td>0</td>\n",
       "      <td>1</td>\n",
       "      <td>0</td>\n",
       "    </tr>\n",
       "    <tr>\n",
       "      <th>Marshall Islands</th>\n",
       "      <td>0</td>\n",
       "      <td>0</td>\n",
       "      <td>1</td>\n",
       "    </tr>\n",
       "    <tr>\n",
       "      <th>Maryland</th>\n",
       "      <td>0</td>\n",
       "      <td>1</td>\n",
       "      <td>0</td>\n",
       "    </tr>\n",
       "    <tr>\n",
       "      <th>Massachusetts</th>\n",
       "      <td>0</td>\n",
       "      <td>0</td>\n",
       "      <td>1</td>\n",
       "    </tr>\n",
       "    <tr>\n",
       "      <th>Michigan</th>\n",
       "      <td>0</td>\n",
       "      <td>1</td>\n",
       "      <td>0</td>\n",
       "    </tr>\n",
       "    <tr>\n",
       "      <th>Minnesota</th>\n",
       "      <td>0</td>\n",
       "      <td>1</td>\n",
       "      <td>0</td>\n",
       "    </tr>\n",
       "    <tr>\n",
       "      <th>Mississippi</th>\n",
       "      <td>0</td>\n",
       "      <td>0</td>\n",
       "      <td>1</td>\n",
       "    </tr>\n",
       "    <tr>\n",
       "      <th>Missouri</th>\n",
       "      <td>0</td>\n",
       "      <td>0</td>\n",
       "      <td>1</td>\n",
       "    </tr>\n",
       "    <tr>\n",
       "      <th>Montana</th>\n",
       "      <td>0</td>\n",
       "      <td>1</td>\n",
       "      <td>0</td>\n",
       "    </tr>\n",
       "    <tr>\n",
       "      <th>Nebraska</th>\n",
       "      <td>0</td>\n",
       "      <td>0</td>\n",
       "      <td>1</td>\n",
       "    </tr>\n",
       "    <tr>\n",
       "      <th>Nevada</th>\n",
       "      <td>0</td>\n",
       "      <td>1</td>\n",
       "      <td>0</td>\n",
       "    </tr>\n",
       "    <tr>\n",
       "      <th>New Hampshire</th>\n",
       "      <td>0</td>\n",
       "      <td>1</td>\n",
       "      <td>0</td>\n",
       "    </tr>\n",
       "    <tr>\n",
       "      <th>New Jersey</th>\n",
       "      <td>0</td>\n",
       "      <td>0</td>\n",
       "      <td>1</td>\n",
       "    </tr>\n",
       "    <tr>\n",
       "      <th>New Mexico</th>\n",
       "      <td>0</td>\n",
       "      <td>1</td>\n",
       "      <td>0</td>\n",
       "    </tr>\n",
       "    <tr>\n",
       "      <th>New York State</th>\n",
       "      <td>0</td>\n",
       "      <td>1</td>\n",
       "      <td>0</td>\n",
       "    </tr>\n",
       "    <tr>\n",
       "      <th>North Carolina</th>\n",
       "      <td>0</td>\n",
       "      <td>0</td>\n",
       "      <td>1</td>\n",
       "    </tr>\n",
       "    <tr>\n",
       "      <th>North Dakota</th>\n",
       "      <td>0</td>\n",
       "      <td>1</td>\n",
       "      <td>0</td>\n",
       "    </tr>\n",
       "    <tr>\n",
       "      <th>Ohio</th>\n",
       "      <td>0</td>\n",
       "      <td>1</td>\n",
       "      <td>0</td>\n",
       "    </tr>\n",
       "    <tr>\n",
       "      <th>Oklahoma</th>\n",
       "      <td>0</td>\n",
       "      <td>1</td>\n",
       "      <td>0</td>\n",
       "    </tr>\n",
       "    <tr>\n",
       "      <th>Oregon</th>\n",
       "      <td>0</td>\n",
       "      <td>1</td>\n",
       "      <td>0</td>\n",
       "    </tr>\n",
       "    <tr>\n",
       "      <th>Pennsylvania</th>\n",
       "      <td>0</td>\n",
       "      <td>1</td>\n",
       "      <td>0</td>\n",
       "    </tr>\n",
       "    <tr>\n",
       "      <th>Puerto Rico</th>\n",
       "      <td>0</td>\n",
       "      <td>0</td>\n",
       "      <td>1</td>\n",
       "    </tr>\n",
       "    <tr>\n",
       "      <th>Republic of Palau</th>\n",
       "      <td>0</td>\n",
       "      <td>0</td>\n",
       "      <td>1</td>\n",
       "    </tr>\n",
       "    <tr>\n",
       "      <th>Rhode Island</th>\n",
       "      <td>0</td>\n",
       "      <td>1</td>\n",
       "      <td>0</td>\n",
       "    </tr>\n",
       "    <tr>\n",
       "      <th>South Carolina</th>\n",
       "      <td>0</td>\n",
       "      <td>1</td>\n",
       "      <td>0</td>\n",
       "    </tr>\n",
       "    <tr>\n",
       "      <th>South Dakota</th>\n",
       "      <td>0</td>\n",
       "      <td>1</td>\n",
       "      <td>0</td>\n",
       "    </tr>\n",
       "    <tr>\n",
       "      <th>Tennessee</th>\n",
       "      <td>0</td>\n",
       "      <td>0</td>\n",
       "      <td>1</td>\n",
       "    </tr>\n",
       "    <tr>\n",
       "      <th>Texas</th>\n",
       "      <td>0</td>\n",
       "      <td>0</td>\n",
       "      <td>1</td>\n",
       "    </tr>\n",
       "    <tr>\n",
       "      <th>United States</th>\n",
       "      <td>1</td>\n",
       "      <td>0</td>\n",
       "      <td>0</td>\n",
       "    </tr>\n",
       "    <tr>\n",
       "      <th>Utah</th>\n",
       "      <td>0</td>\n",
       "      <td>1</td>\n",
       "      <td>0</td>\n",
       "    </tr>\n",
       "    <tr>\n",
       "      <th>Vermont</th>\n",
       "      <td>0</td>\n",
       "      <td>1</td>\n",
       "      <td>0</td>\n",
       "    </tr>\n",
       "    <tr>\n",
       "      <th>Virgin Islands</th>\n",
       "      <td>0</td>\n",
       "      <td>0</td>\n",
       "      <td>1</td>\n",
       "    </tr>\n",
       "    <tr>\n",
       "      <th>Virginia</th>\n",
       "      <td>0</td>\n",
       "      <td>0</td>\n",
       "      <td>1</td>\n",
       "    </tr>\n",
       "    <tr>\n",
       "      <th>Washington</th>\n",
       "      <td>0</td>\n",
       "      <td>0</td>\n",
       "      <td>1</td>\n",
       "    </tr>\n",
       "    <tr>\n",
       "      <th>West Virginia</th>\n",
       "      <td>0</td>\n",
       "      <td>0</td>\n",
       "      <td>1</td>\n",
       "    </tr>\n",
       "    <tr>\n",
       "      <th>Wisconsin</th>\n",
       "      <td>0</td>\n",
       "      <td>1</td>\n",
       "      <td>0</td>\n",
       "    </tr>\n",
       "    <tr>\n",
       "      <th>Wyoming</th>\n",
       "      <td>0</td>\n",
       "      <td>0</td>\n",
       "      <td>1</td>\n",
       "    </tr>\n",
       "  </tbody>\n",
       "</table>\n",
       "</div>"
      ],
      "text/plain": [
       "lottery                                           2  No  Yes\n",
       "jurisdiction (state/territory) or federal entity            \n",
       "Alabama                                           0   0    1\n",
       "Alaska                                            0   1    0\n",
       "American Samoa                                    0   0    1\n",
       "Arizona                                           0   0    1\n",
       "Arkansas                                          0   1    0\n",
       "California                                        0   1    0\n",
       "Colorado                                          0   0    1\n",
       "Connecticut                                       0   1    0\n",
       "Delaware                                          0   0    1\n",
       "District of Columbia                              0   1    0\n",
       "Federated States of Micronesia                    0   0    1\n",
       "Florida                                           0   1    0\n",
       "Georgia                                           0   1    0\n",
       "Guam                                              0   1    0\n",
       "Hawaii                                            0   1    0\n",
       "Idaho                                             0   0    1\n",
       "Illinois                                          0   0    1\n",
       "Indiana                                           0   0    1\n",
       "Iowa                                              0   0    1\n",
       "Kansas                                            0   0    1\n",
       "Kentucky                                          0   1    0\n",
       "Louisiana                                         0   1    0\n",
       "Maine                                             0   1    0\n",
       "Marshall Islands                                  0   0    1\n",
       "Maryland                                          0   1    0\n",
       "Massachusetts                                     0   0    1\n",
       "Michigan                                          0   1    0\n",
       "Minnesota                                         0   1    0\n",
       "Mississippi                                       0   0    1\n",
       "Missouri                                          0   0    1\n",
       "Montana                                           0   1    0\n",
       "Nebraska                                          0   0    1\n",
       "Nevada                                            0   1    0\n",
       "New Hampshire                                     0   1    0\n",
       "New Jersey                                        0   0    1\n",
       "New Mexico                                        0   1    0\n",
       "New York State                                    0   1    0\n",
       "North Carolina                                    0   0    1\n",
       "North Dakota                                      0   1    0\n",
       "Ohio                                              0   1    0\n",
       "Oklahoma                                          0   1    0\n",
       "Oregon                                            0   1    0\n",
       "Pennsylvania                                      0   1    0\n",
       "Puerto Rico                                       0   0    1\n",
       "Republic of Palau                                 0   0    1\n",
       "Rhode Island                                      0   1    0\n",
       "South Carolina                                    0   1    0\n",
       "South Dakota                                      0   1    0\n",
       "Tennessee                                         0   0    1\n",
       "Texas                                             0   0    1\n",
       "United States                                     1   0    0\n",
       "Utah                                              0   1    0\n",
       "Vermont                                           0   1    0\n",
       "Virgin Islands                                    0   0    1\n",
       "Virginia                                          0   0    1\n",
       "Washington                                        0   0    1\n",
       "West Virginia                                     0   0    1\n",
       "Wisconsin                                         0   1    0\n",
       "Wyoming                                           0   0    1"
      ]
     },
     "execution_count": 34,
     "metadata": {},
     "output_type": "execute_result"
    }
   ],
   "source": [
    "pd.crosstab(data['jurisdiction (state/territory) or federal entity'], data['lottery'])  "
   ]
  },
  {
   "cell_type": "code",
   "execution_count": 39,
   "id": "6e3ec246",
   "metadata": {},
   "outputs": [
    {
     "data": {
      "image/png": "[encoded data removed]",
      "text/plain": [
       "<Figure size 640x480 with 1 Axes>"
      ]
     },
     "metadata": {},
     "output_type": "display_data"
    }
   ],
   "source": [
    "basic_ct = pd.crosstab(data['jurisdiction (state/territory) or federal entity'], data['lottery'])\n",
    "basic_ct.plot(kind='bar');"
   ]
  },
  {
   "cell_type": "markdown",
   "id": "0a98ea97",
   "metadata": {},
   "source": [
    "### Feature Engineering"
   ]
  },
  {
   "cell_type": "code",
   "execution_count": 51,
   "id": "df88e2d0",
   "metadata": {},
   "outputs": [],
   "source": [
    "#Normalizing the data to eliminate redundant data, \n",
    "#minimize data modification errors, and simplify the query process.\n",
    "from sklearn import preprocessing"
   ]
  },
  {
   "cell_type": "code",
   "execution_count": 55,
   "id": "65c11b27",
   "metadata": {},
   "outputs": [
    {
     "name": "stdout",
     "output_type": "stream",
     "text": [
      "doses array:  [984444295   2176065  12349530   8373210    128480  19959120 121107865\n",
      "  17769135  11881825   2761525   3352025  61526685    291840  28727475\n",
      "    387180   4677910   9429185   4751720  38328915  18989660   8356725\n",
      "  12200975  10282120  23747420  22359840   4981040    162240  29638290\n",
      "  18519240  15654225   7252325   2714785  30278310   1910860   5481710\n",
      "   5121800  29637655   6176205   7722770  61302975  31703485   9702330\n",
      "  14222125  42895735   8842720     52580   3531485  14205395   2713025\n",
      "  17172490  80813315   8421900  26823665    173300   2588940  25606455\n",
      "  16474175   5515855   1281755]\n"
     ]
    }
   ],
   "source": [
    "doses_array = np.array(data['total doses distributed'])\n",
    "print(\"doses array: \",doses_array)"
   ]
  },
  {
   "cell_type": "code",
   "execution_count": 56,
   "id": "1920c3cd",
   "metadata": {},
   "outputs": [],
   "source": [
    "doses_array = np.array(data['total doses distributed'])"
   ]
  },
  {
   "cell_type": "code",
   "execution_count": 57,
   "id": "a49fd936",
   "metadata": {},
   "outputs": [
    {
     "name": "stdout",
     "output_type": "stream",
     "text": [
      "Normalized doses array:  [[9.78519085e-01 2.16296762e-03 1.22752002e-02 8.32281301e-03\n",
      "  1.27706700e-04 1.98389893e-02 1.20378936e-01 1.76621855e-02\n",
      "  1.18103102e-02 2.74490383e-03 3.33184971e-03 6.11563659e-02\n",
      "  2.90083462e-04 2.85545690e-02 3.84849626e-04 4.64975442e-03\n",
      "  9.37243227e-03 4.72312017e-03 3.80982195e-02 1.88753643e-02\n",
      "  8.30642723e-03 1.21275393e-02 1.02202336e-02 2.36044881e-02\n",
      "  2.22252598e-02 4.95105993e-03 1.61263504e-04 2.94599019e-02\n",
      "  1.84077757e-02 1.55600048e-02 7.20867443e-03 2.69844515e-03\n",
      "  3.00960698e-02 1.89935884e-03 5.44871648e-03 5.09097272e-03\n",
      "  2.94592708e-02 6.13903142e-03 7.67628790e-03 6.09340023e-02\n",
      "  3.15126669e-02 9.64393325e-03 1.41365243e-02 4.26375525e-02\n",
      "  8.78949710e-03 5.22635295e-05 3.51022957e-03 1.41198950e-02\n",
      "  2.69669574e-03 1.70691316e-02 8.03269128e-02 8.37120995e-03\n",
      "  2.66622177e-02 1.72256935e-04 2.57335759e-03 2.54523339e-02\n",
      "  1.63750196e-02 5.48265596e-03 1.27404032e-03]]\n"
     ]
    }
   ],
   "source": [
    "normalized_arr = preprocessing.normalize([doses_array])\n",
    "print(\"Normalized doses array: \",normalized_arr)"
   ]
  },
  {
   "cell_type": "code",
   "execution_count": 61,
   "id": "12ca9d7b",
   "metadata": {},
   "outputs": [
    {
     "name": "stdout",
     "output_type": "stream",
     "text": [
      "Normalized doses by juridiction array:  [[9.77957213e-01 1.91944445e-03 1.01418983e-02 7.04366738e-03\n",
      "  1.66595375e-04 2.11673210e-02 1.27875946e-01 1.88349496e-02\n",
      "  1.30653530e-02 3.08877546e-03 3.13465526e-03 6.10816024e-02\n",
      "  3.02356133e-04 2.47474517e-02 5.78227473e-04 5.10180472e-03\n",
      "  8.86018286e-03 4.18271144e-03 3.88150880e-02 1.61869631e-02\n",
      "  7.78621705e-03 1.08530815e-02 1.00601649e-02 2.62719957e-02\n",
      "  2.12755074e-02 5.11913031e-03 1.47168569e-04 2.71237058e-02\n",
      "  1.85397035e-02 1.51868460e-02 6.22507094e-03 2.70279865e-03\n",
      "  2.80853319e-02 1.89957110e-03 5.52353968e-03 4.31098211e-03\n",
      "  2.86511285e-02 6.86526245e-03 8.07923045e-03 6.52871207e-02\n",
      "  3.04990176e-02 9.78849314e-03 1.35829763e-02 3.98658234e-02\n",
      "  1.13395494e-02 7.51045554e-05 3.86150510e-03 1.25243187e-02\n",
      "  2.44078750e-03 1.63636035e-02 7.58836624e-02 8.90030673e-03\n",
      "  2.83362460e-02 2.24510177e-04 2.54712264e-03 2.56126318e-02\n",
      "  1.79831500e-02 4.47782027e-03 1.23432692e-03]]\n"
     ]
    }
   ],
   "source": [
    "doses_by_juridiction_array = np.array(data['total doses administered by jurisdiction'])\n",
    "normalized_arr = preprocessing.normalize([doses_by_juridiction_array])\n",
    "print(\"Normalized doses by juridiction array: \",normalized_arr)"
   ]
  },
  {
   "cell_type": "code",
   "execution_count": 109,
   "id": "256df109",
   "metadata": {},
   "outputs": [
    {
     "data": {
      "text/plain": [
       "0      NaN\n",
       "1     High\n",
       "2      NaN\n",
       "3      NaN\n",
       "4      Low\n",
       "5      NaN\n",
       "6      NaN\n",
       "7      NaN\n",
       "8      NaN\n",
       "9     High\n",
       "10     NaN\n",
       "11     NaN\n",
       "12     Low\n",
       "13     NaN\n",
       "14     Low\n",
       "15     NaN\n",
       "16     NaN\n",
       "17     NaN\n",
       "18     NaN\n",
       "19     NaN\n",
       "20     NaN\n",
       "21     NaN\n",
       "22     NaN\n",
       "23     NaN\n",
       "24     NaN\n",
       "25     NaN\n",
       "26     Low\n",
       "27     NaN\n",
       "28     NaN\n",
       "29     NaN\n",
       "30     NaN\n",
       "31    High\n",
       "32     NaN\n",
       "33     Mid\n",
       "34     NaN\n",
       "35     NaN\n",
       "36     NaN\n",
       "37     NaN\n",
       "38     NaN\n",
       "39     NaN\n",
       "40     NaN\n",
       "41     NaN\n",
       "42     NaN\n",
       "43     NaN\n",
       "44     NaN\n",
       "45     Low\n",
       "46     NaN\n",
       "47     NaN\n",
       "48    High\n",
       "49     NaN\n",
       "50     NaN\n",
       "51     NaN\n",
       "52     NaN\n",
       "53     Low\n",
       "54    High\n",
       "55     NaN\n",
       "56     NaN\n",
       "57     NaN\n",
       "58     Mid\n",
       "Name: total_doses_bin, dtype: category\n",
       "Categories (3, object): ['Low' < 'Mid' < 'High']"
      ]
     },
     "execution_count": 109,
     "metadata": {},
     "output_type": "execute_result"
    }
   ],
   "source": [
    "#Binning numerical data to make it categorical \n",
    "#grouping multiple values into a single category.\n",
    "\n",
    "# Bin the Efficiency column into 3 equal-sized bins\n",
    "data['total_doses_bin'] = pd.cut(data['total doses distributed'], bins=[0,1000000,2000000,3000000], labels=[\"Low\", \"Mid\", \"High\"])\n",
    "data['total_doses_bin']"
   ]
  },
  {
   "cell_type": "markdown",
   "id": "764afca9",
   "metadata": {},
   "source": [
    "### Splitting the dataset"
   ]
  },
  {
   "cell_type": "code",
   "execution_count": 64,
   "id": "e72d7b5a",
   "metadata": {},
   "outputs": [
    {
     "data": {
      "text/plain": [
       "['jurisdiction (state/territory) or federal entity',\n",
       " 'total doses distributed',\n",
       " 'doses distributed per 100k pop',\n",
       " 'doses distributed by jurisdiction per 100k of 18+ pop',\n",
       " 'total doses administered by jurisdiction',\n",
       " 'doses administered by jurisdiction per 100k pop',\n",
       " 'doses administered by jurisdiction to 18+ pop',\n",
       " 'doses administered by jurisdiction per 100k of 18+ pop',\n",
       " 'residents with at least one dose',\n",
       " 'percent of total pop with at least one dose',\n",
       " 'residents 18+ with at least one dose',\n",
       " 'percent of 18+ pop with at least one dose',\n",
       " 'residents with a completed primary series',\n",
       " 'percent of total pop with a completed primary series',\n",
       " 'residents 18+ with a completed primary series',\n",
       " 'percent of 18+ pop with a completed primary series',\n",
       " 'total number of original pfizer doses distributed',\n",
       " 'total number of pfizer updated booster doses distributed',\n",
       " 'total number of original moderna doses distributed',\n",
       " 'total number of moderna updated booster doses distributed',\n",
       " 'total number of janssen doses distributed',\n",
       " 'total number of novavax doses distributed',\n",
       " 'total number of doses from other manufacturer distributed',\n",
       " 'total number of janssen doses administered',\n",
       " 'total number of original moderna doses administered',\n",
       " 'total number of moderna updated booster doses administered',\n",
       " 'total number of original pfizer doses administered',\n",
       " 'total number of pfizer updated booster doses administered',\n",
       " 'total number of novavax doses administered',\n",
       " 'total number of doses from other manufacturer administered',\n",
       " 'residents 65+ with at least one dose',\n",
       " 'percent of 65+ pop with at least one dose',\n",
       " 'residents 65+ with a completed primary series',\n",
       " 'percent of 65+ pop with a completed primary series',\n",
       " 'doses administered by jurisdiction to 65+ pop',\n",
       " 'doses administered by jurisdiction per 100k of 65+ pop',\n",
       " 'doses distributed by jurisdiction per 100k of 65+ pop',\n",
       " 'residents 12+ with at least one dose',\n",
       " 'percent of 12+ pop with at least one dose',\n",
       " 'residents 12+ with a completed primary series',\n",
       " 'percent of 12+ pop with a completed primary series',\n",
       " 'doses administered by jurisdiction to 12+ pop',\n",
       " 'doses administered by jurisdiction per 100k of 12+ pop',\n",
       " 'doses distributed by jurisdiction per 100k of 12+ pop',\n",
       " 'residents 5+ with at least one dose',\n",
       " 'percent of 5+ pop with at least one dose',\n",
       " 'residents 5+ with a completed primary series',\n",
       " 'percent of 5+ pop with a completed primary series',\n",
       " 'doses administered by jurisdiction to 5+ pop',\n",
       " 'doses administered by jurisdiction per 100k of 5+ pop',\n",
       " 'doses distributed by jurisdiction per 100k of 5+ pop',\n",
       " 'residents with an updated (bivalent) booster dose',\n",
       " 'percent of pop with an updated (bivalent) booster dose',\n",
       " 'residents 5+ with an updated (bivalent) booster dose',\n",
       " 'percent of 5+ pop with an updated (bivalent) booster dose',\n",
       " 'residents 12+ with an updated (bivalent) booster dose',\n",
       " 'percent of 12+ pop with an updated (bivalent) booster dose',\n",
       " 'residents 18+ with an updated (bivalent) booster dose',\n",
       " 'percent of 18+ pop with an updated (bivalent) booster dose',\n",
       " 'residents 65+ with an updated (bivalent) booster dose',\n",
       " 'percent of 65+ pop with an updated (bivalent) booster dose',\n",
       " 'children <5 with at least one dose',\n",
       " 'total number of updated (bivalent) booster doses administered',\n",
       " 'political affiliation',\n",
       " 'non-incentive covid-19 mitigation policy',\n",
       " 'lottery',\n",
       " 'guaranteed',\n",
       " 'political_D',\n",
       " 'political_R',\n",
       " 'NonIncentive_No',\n",
       " 'NonIncentive_Yes',\n",
       " 'lottery_No',\n",
       " 'lottery_Yes',\n",
       " 'guaranteed_No',\n",
       " 'guaranteed_Yes',\n",
       " 'total_doses_bin']"
      ]
     },
     "execution_count": 64,
     "metadata": {},
     "output_type": "execute_result"
    }
   ],
   "source": [
    "list(data.columns)"
   ]
  },
  {
   "cell_type": "code",
   "execution_count": 66,
   "id": "4efad0aa",
   "metadata": {},
   "outputs": [],
   "source": [
    "#encoding categorical fetaure\n",
    "data['total_doses_bin'] = (data['total doses distributed'] == 1).astype('int')"
   ]
  },
  {
   "cell_type": "code",
   "execution_count": 67,
   "id": "c6eccfe6",
   "metadata": {},
   "outputs": [],
   "source": [
    "numerical_features = ['total doses distributed','total doses administered by jurisdiction']\n",
    "binary_features = ['total_doses_bin']\n",
    "X = data[numerical_features + binary_features]\n",
    "y = data['total doses distributed']"
   ]
  },
  {
   "cell_type": "code",
   "execution_count": 68,
   "id": "25d12a51",
   "metadata": {},
   "outputs": [],
   "source": [
    "from sklearn.model_selection import train_test_split\n",
    "X_train, X_test, y_train, y_test = train_test_split(X, y, test_size=5/30, random_state=101)\n"
   ]
  },
  {
   "cell_type": "code",
   "execution_count": 69,
   "id": "c0bc87fc",
   "metadata": {},
   "outputs": [],
   "source": [
    "#Import the class you to use\n",
    "from sklearn.preprocessing import StandardScaler\n",
    "\n",
    "#Create an instance of the class\n",
    "scaler = StandardScaler()\n",
    "\n",
    "#Use the fit method of the instance\n",
    "scaler.fit(X_train[numerical_features])\n",
    "\n",
    "#Use the transform method to perform the transformation\n",
    "X_train.loc[:, numerical_features] = scaler.transform(X_train[numerical_features])\n"
   ]
  },
  {
   "cell_type": "markdown",
   "id": "dcf2bb00",
   "metadata": {},
   "source": [
    "### complete Logistic Regression model"
   ]
  },
  {
   "cell_type": "code",
   "execution_count": 70,
   "id": "f28d8d56",
   "metadata": {},
   "outputs": [
    {
     "name": "stderr",
     "output_type": "stream",
     "text": [
      "/Users/maduffaut/anaconda3/lib/python3.11/site-packages/sklearn/linear_model/_logistic.py:460: ConvergenceWarning: lbfgs failed to converge (status=1):\n",
      "STOP: TOTAL NO. of ITERATIONS REACHED LIMIT.\n",
      "\n",
      "Increase the number of iterations (max_iter) or scale the data as shown in:\n",
      "    https://scikit-learn.org/stable/modules/preprocessing.html\n",
      "Please also refer to the documentation for alternative solver options:\n",
      "    https://scikit-learn.org/stable/modules/linear_model.html#logistic-regression\n",
      "  n_iter_i = _check_optimize_result(\n"
     ]
    },
    {
     "data": {
      "text/html": [
       "<style>#sk-container-id-1 {color: black;}#sk-container-id-1 pre{padding: 0;}#sk-container-id-1 div.sk-toggleable {background-color: white;}#sk-container-id-1 label.sk-toggleable__label {cursor: pointer;display: block;width: 100%;margin-bottom: 0;padding: 0.3em;box-sizing: border-box;text-align: center;}#sk-container-id-1 label.sk-toggleable__label-arrow:before {content: \"▸\";float: left;margin-right: 0.25em;color: #696969;}#sk-container-id-1 label.sk-toggleable__label-arrow:hover:before {color: black;}#sk-container-id-1 div.sk-estimator:hover label.sk-toggleable__label-arrow:before {color: black;}#sk-container-id-1 div.sk-toggleable__content {max-height: 0;max-width: 0;overflow: hidden;text-align: left;background-color: #f0f8ff;}#sk-container-id-1 div.sk-toggleable__content pre {margin: 0.2em;color: black;border-radius: 0.25em;background-color: #f0f8ff;}#sk-container-id-1 input.sk-toggleable__control:checked~div.sk-toggleable__content {max-height: 200px;max-width: 100%;overflow: auto;}#sk-container-id-1 input.sk-toggleable__control:checked~label.sk-toggleable__label-arrow:before {content: \"▾\";}#sk-container-id-1 div.sk-estimator input.sk-toggleable__control:checked~label.sk-toggleable__label {background-color: #d4ebff;}#sk-container-id-1 div.sk-label input.sk-toggleable__control:checked~label.sk-toggleable__label {background-color: #d4ebff;}#sk-container-id-1 input.sk-hidden--visually {border: 0;clip: rect(1px 1px 1px 1px);clip: rect(1px, 1px, 1px, 1px);height: 1px;margin: -1px;overflow: hidden;padding: 0;position: absolute;width: 1px;}#sk-container-id-1 div.sk-estimator {font-family: monospace;background-color: #f0f8ff;border: 1px dotted black;border-radius: 0.25em;box-sizing: border-box;margin-bottom: 0.5em;}#sk-container-id-1 div.sk-estimator:hover {background-color: #d4ebff;}#sk-container-id-1 div.sk-parallel-item::after {content: \"\";width: 100%;border-bottom: 1px solid gray;flex-grow: 1;}#sk-container-id-1 div.sk-label:hover label.sk-toggleable__label {background-color: #d4ebff;}#sk-container-id-1 div.sk-serial::before {content: \"\";position: absolute;border-left: 1px solid gray;box-sizing: border-box;top: 0;bottom: 0;left: 50%;z-index: 0;}#sk-container-id-1 div.sk-serial {display: flex;flex-direction: column;align-items: center;background-color: white;padding-right: 0.2em;padding-left: 0.2em;position: relative;}#sk-container-id-1 div.sk-item {position: relative;z-index: 1;}#sk-container-id-1 div.sk-parallel {display: flex;align-items: stretch;justify-content: center;background-color: white;position: relative;}#sk-container-id-1 div.sk-item::before, #sk-container-id-1 div.sk-parallel-item::before {content: \"\";position: absolute;border-left: 1px solid gray;box-sizing: border-box;top: 0;bottom: 0;left: 50%;z-index: -1;}#sk-container-id-1 div.sk-parallel-item {display: flex;flex-direction: column;z-index: 1;position: relative;background-color: white;}#sk-container-id-1 div.sk-parallel-item:first-child::after {align-self: flex-end;width: 50%;}#sk-container-id-1 div.sk-parallel-item:last-child::after {align-self: flex-start;width: 50%;}#sk-container-id-1 div.sk-parallel-item:only-child::after {width: 0;}#sk-container-id-1 div.sk-dashed-wrapped {border: 1px dashed gray;margin: 0 0.4em 0.5em 0.4em;box-sizing: border-box;padding-bottom: 0.4em;background-color: white;}#sk-container-id-1 div.sk-label label {font-family: monospace;font-weight: bold;display: inline-block;line-height: 1.2em;}#sk-container-id-1 div.sk-label-container {text-align: center;}#sk-container-id-1 div.sk-container {/* jupyter's `normalize.less` sets `[hidden] { display: none; }` but bootstrap.min.css set `[hidden] { display: none !important; }` so we also need the `!important` here to be able to override the default hidden behavior on the sphinx rendered scikit-learn.org. See: https://github.com/scikit-learn/scikit-learn/issues/21755 */display: inline-block !important;position: relative;}#sk-container-id-1 div.sk-text-repr-fallback {display: none;}</style><div id=\"sk-container-id-1\" class=\"sk-top-container\"><div class=\"sk-text-repr-fallback\"><pre>LogisticRegression(C=1000000.0)</pre><b>In a Jupyter environment, please rerun this cell to show the HTML representation or trust the notebook. <br />On GitHub, the HTML representation is unable to render, please try loading this page with nbviewer.org.</b></div><div class=\"sk-container\" hidden><div class=\"sk-item\"><div class=\"sk-estimator sk-toggleable\"><input class=\"sk-toggleable__control sk-hidden--visually\" id=\"sk-estimator-id-1\" type=\"checkbox\" checked><label for=\"sk-estimator-id-1\" class=\"sk-toggleable__label sk-toggleable__label-arrow\">LogisticRegression</label><div class=\"sk-toggleable__content\"><pre>LogisticRegression(C=1000000.0)</pre></div></div></div></div></div>"
      ],
      "text/plain": [
       "LogisticRegression(C=1000000.0)"
      ]
     },
     "execution_count": 70,
     "metadata": {},
     "output_type": "execute_result"
    }
   ],
   "source": [
    "#model training using all selected features\n",
    "from sklearn.linear_model import LogisticRegression\n",
    "\n",
    "log_reg = LogisticRegression(C=1e6)\n",
    "log_reg.fit(X_train, y_train)"
   ]
  },
  {
   "cell_type": "code",
   "execution_count": 71,
   "id": "3de5157c",
   "metadata": {},
   "outputs": [
    {
     "data": {
      "text/plain": [
       "array([[1.03366967e-079, 7.78839813e-078, 1.20363771e-077,\n",
       "        9.96114819e-077, 1.12485335e-074, 2.82527858e-071,\n",
       "        3.31459684e-061, 4.91412804e-056, 1.63143674e-051,\n",
       "        2.05027961e-051, 1.32945950e-050, 2.76127262e-049,\n",
       "        3.37643247e-047, 1.83492223e-044, 5.44173135e-038,\n",
       "        5.11234343e-040, 9.88551789e-039, 3.85100423e-035,\n",
       "        2.28699701e-037, 7.84827977e-032, 1.77873460e-030,\n",
       "        3.65687639e-026, 3.42905812e-027, 2.93207960e-025,\n",
       "        2.52411536e-023, 3.26445682e-020, 2.00176982e-021,\n",
       "        1.85634824e-017, 8.47631458e-017, 4.92601397e-014,\n",
       "        1.94904382e-011, 6.17656651e-009, 7.74447783e-006,\n",
       "        2.27159733e-007, 6.02957188e-006, 5.09054547e-004,\n",
       "        1.64409212e-002, 1.77634194e-002, 7.42915669e-003,\n",
       "        2.47957057e-001, 2.51720135e-001, 3.81396894e-001,\n",
       "        7.38963215e-002, 2.87303383e-003, 9.74155001e-011,\n",
       "        1.25222139e-071, 1.04274406e-043, 5.34284607e-164,\n",
       "        0.00000000e+000],\n",
       "       [2.21283970e-002, 2.80158361e-002, 2.85948220e-002,\n",
       "        3.20229585e-002, 3.99780304e-002, 5.94499842e-002,\n",
       "        1.21475940e-001, 1.23897954e-001, 1.00834748e-001,\n",
       "        9.99893427e-002, 9.38097366e-002, 8.20041211e-002,\n",
       "        6.63872986e-002, 4.36507783e-002, 1.08219855e-002,\n",
       "        1.84171918e-002, 1.31140547e-002, 4.69925579e-003,\n",
       "        8.72884193e-003, 1.11837096e-003, 6.64420322e-004,\n",
       "        6.05856069e-005, 1.04412817e-004, 2.43485263e-005,\n",
       "        5.85632960e-006, 6.63657259e-008, 6.55614581e-007,\n",
       "        4.34584386e-009, 1.53006680e-009, 5.64698818e-012,\n",
       "        1.45984976e-014, 4.77051893e-019, 1.72242533e-022,\n",
       "        9.16851262e-020, 5.07198409e-023, 4.81385667e-034,\n",
       "        2.98348540e-032, 5.08301499e-048, 8.15498054e-029,\n",
       "        2.32326998e-057, 1.01803737e-046, 1.88068599e-058,\n",
       "        1.81774015e-078, 5.21795368e-085, 3.78898998e-112,\n",
       "        7.80525998e-243, 1.20988248e-194, 0.00000000e+000,\n",
       "        0.00000000e+000],\n",
       "       [1.66019636e-132, 5.35481077e-130, 8.24149623e-130,\n",
       "        1.63525252e-128, 7.82146334e-126, 4.22835909e-121,\n",
       "        6.22236938e-108, 6.51050028e-101, 8.38535891e-095,\n",
       "        6.11645945e-095, 1.59806396e-093, 2.56242293e-091,\n",
       "        4.27612728e-089, 1.10516272e-084, 1.38164327e-075,\n",
       "        1.51122910e-079, 5.10287232e-078, 5.05855827e-072,\n",
       "        2.35538465e-076, 1.32923694e-066, 1.44280763e-066,\n",
       "        6.96392778e-060, 3.63850561e-062, 2.01689839e-057,\n",
       "        5.59430077e-055, 5.09376782e-049, 4.03566619e-054,\n",
       "        1.51407557e-047, 1.78737326e-045, 1.09874243e-040,\n",
       "        1.08094381e-036, 1.99492141e-030, 3.60347846e-026,\n",
       "        3.00332041e-031, 1.10098190e-025, 2.54531731e-018,\n",
       "        1.09669349e-018, 2.40035470e-011, 4.39900893e-022,\n",
       "        6.63177357e-008, 7.07874232e-013, 2.20508202e-008,\n",
       "        1.17210767e-001, 8.71589624e-001, 1.11995209e-002,\n",
       "        1.08157767e-037, 1.74205134e-018, 1.40052151e-113,\n",
       "        0.00000000e+000],\n",
       "       [1.02847805e-018, 5.17177229e-018, 6.47405958e-018,\n",
       "        1.32952520e-017, 8.12260731e-017, 1.24046248e-015,\n",
       "        7.18004324e-012, 4.00247071e-010, 1.23323390e-008,\n",
       "        1.72747894e-008, 2.30999052e-008, 3.99423784e-008,\n",
       "        3.27923238e-007, 1.11774297e-006, 6.12087924e-005,\n",
       "        5.40951667e-005, 1.52385481e-004, 4.89891169e-004,\n",
       "        4.27832843e-004, 1.24080609e-003, 1.57297169e-002,\n",
       "        5.84434107e-002, 8.24303988e-002, 2.22289805e-002,\n",
       "        5.74563966e-002, 1.19667246e-002, 4.35355610e-001,\n",
       "        2.27653021e-001, 7.08103094e-002, 1.25177411e-002,\n",
       "        2.81829510e-003, 6.05542088e-006, 1.09982366e-006,\n",
       "        1.54183795e-004, 2.92085308e-007, 2.90532840e-014,\n",
       "        8.11755745e-012, 5.80036028e-023, 6.17236742e-009,\n",
       "        3.70312464e-028, 1.33292443e-020, 2.40840825e-028,\n",
       "        4.37966794e-042, 4.35640650e-047, 5.48946613e-067,\n",
       "        1.48904222e-174, 1.43002934e-132, 6.48369645e-299,\n",
       "        0.00000000e+000],\n",
       "       [5.41179811e-076, 3.59741951e-074, 5.58371482e-074,\n",
       "        4.26734504e-073, 4.27310840e-071, 8.14729186e-068,\n",
       "        5.28727014e-058, 5.42812956e-053, 1.31897157e-048,\n",
       "        1.76605065e-048, 9.96931112e-048, 1.69496977e-046,\n",
       "        2.09745117e-044, 7.86222313e-042, 1.37625484e-035,\n",
       "        2.03195037e-037, 3.80603619e-036, 8.67566760e-033,\n",
       "        8.42197913e-035, 1.11426015e-029, 3.67688852e-028,\n",
       "        4.59171765e-024, 5.79709948e-025, 2.52958940e-023,\n",
       "        2.01707063e-021, 1.39165666e-018, 2.22699091e-019,\n",
       "        1.20031784e-015, 3.89434994e-015, 1.49862049e-012,\n",
       "        4.61920869e-010, 6.41898255e-008, 6.86406713e-005,\n",
       "        4.60095769e-006, 4.62450429e-005, 1.26247776e-003,\n",
       "        6.58454914e-002, 1.50774120e-002, 6.04373063e-002,\n",
       "        1.45535074e-001, 4.26401620e-001, 2.73343283e-001,\n",
       "        1.16964591e-002, 2.81324823e-004, 3.43647771e-012,\n",
       "        2.44469248e-075, 1.25587370e-046, 4.18748636e-169,\n",
       "        0.00000000e+000],\n",
       "       [1.54203929e-001, 1.49898643e-001, 1.49897410e-001,\n",
       "        1.46500104e-001, 1.37592602e-001, 1.24305609e-001,\n",
       "        6.15858183e-002, 2.90906724e-002, 1.19769110e-002,\n",
       "        1.20080875e-002, 9.65233427e-003, 6.61560266e-003,\n",
       "        4.11868137e-003, 1.64906365e-003, 1.41069520e-004,\n",
       "        3.74754528e-004, 2.21199333e-004, 3.95773300e-005,\n",
       "        1.19886125e-004, 4.89673758e-006, 2.75687205e-006,\n",
       "        1.08312088e-007, 2.43513214e-007, 3.22709553e-008,\n",
       "        5.51602407e-009, 2.66068628e-011, 4.92613998e-010,\n",
       "        1.25580854e-012, 3.39613451e-013, 5.68453513e-016,\n",
       "        7.09192141e-019, 7.23822710e-024, 1.10477809e-027,\n",
       "        1.34882780e-024, 2.92695936e-028, 3.72937694e-040,\n",
       "        2.86115274e-038, 3.94062614e-055, 1.61915888e-034,\n",
       "        4.34214491e-065, 1.04015873e-053, 3.23737818e-066,\n",
       "        1.67269120e-087, 2.14022482e-094, 9.53191780e-123,\n",
       "        5.44964227e-258, 1.99672408e-208, 0.00000000e+000,\n",
       "        0.00000000e+000],\n",
       "       [1.27804686e-001, 1.30913262e-001, 1.30263971e-001,\n",
       "        1.32063208e-001, 1.29989557e-001, 1.32934904e-001,\n",
       "        8.28490048e-002, 4.56538104e-002, 2.13606986e-002,\n",
       "        2.05863044e-002, 1.77930948e-002, 1.35137134e-002,\n",
       "        8.11895966e-003, 3.91418935e-003, 4.19469226e-004,\n",
       "        8.74008944e-004, 5.16128733e-004, 1.21000111e-004,\n",
       "        2.81616589e-004, 1.87837106e-005, 8.26103851e-006,\n",
       "        4.08712381e-007, 7.80909123e-007, 1.50103047e-007,\n",
       "        2.59884448e-008, 1.71363048e-010, 1.83208492e-009,\n",
       "        5.97779148e-012, 1.95755134e-012, 3.92511468e-015,\n",
       "        5.31980742e-018, 8.14516855e-023, 1.25646012e-026,\n",
       "        9.85603501e-024, 3.61194641e-027, 7.67417396e-039,\n",
       "        4.42729252e-037, 1.26362647e-053, 1.71743620e-033,\n",
       "        1.51669781e-063, 2.20393163e-052, 9.86020922e-065,\n",
       "        9.83917466e-086, 1.57251501e-092, 1.00241457e-120,\n",
       "        5.28098721e-255, 8.42107222e-206, 0.00000000e+000,\n",
       "        0.00000000e+000],\n",
       "       [5.37815302e-064, 2.43655032e-062, 3.28574960e-062,\n",
       "        2.32123410e-061, 1.36863940e-059, 1.72687261e-056,\n",
       "        7.63543743e-048, 2.61575669e-043, 2.16653513e-039,\n",
       "        1.86200210e-039, 1.40692939e-038, 3.28429379e-037,\n",
       "        9.44671477e-036, 5.05538086e-033, 2.25914957e-027,\n",
       "        9.49245778e-030, 8.62329347e-029, 3.66811458e-025,\n",
       "        9.32222326e-028, 6.03408473e-022, 7.74402197e-022,\n",
       "        6.24198210e-018, 2.99405428e-019, 1.40750539e-016,\n",
       "        3.48306152e-015, 4.06045118e-012, 8.70702136e-015,\n",
       "        2.37821377e-011, 2.91244642e-010, 4.77649161e-008,\n",
       "        2.40007393e-006, 5.30594765e-004, 2.27324792e-002,\n",
       "        1.66456343e-004, 2.77181691e-002, 1.65887459e-001,\n",
       "        5.95115472e-001, 6.02373713e-002, 8.88743736e-002,\n",
       "        6.59411728e-003, 3.04709213e-002, 1.66744155e-003,\n",
       "        2.65456733e-006, 4.25498869e-008, 8.27747468e-019,\n",
       "        8.26476962e-088, 3.34434236e-058, 9.04028750e-187,\n",
       "        0.00000000e+000],\n",
       "       [1.28593713e-011, 4.09687647e-011, 4.60567484e-011,\n",
       "        8.07758708e-011, 2.79779451e-010, 2.21069841e-009,\n",
       "        7.34614812e-007, 1.09723699e-005, 9.84241513e-005,\n",
       "        1.04216364e-004, 1.49258961e-004, 2.62174209e-004,\n",
       "        6.78099769e-004, 1.97576303e-003, 1.93402695e-002,\n",
       "        1.06949592e-002, 1.62434637e-002, 4.54854261e-002,\n",
       "        2.43618435e-002, 8.10769788e-002, 1.19164746e-001,\n",
       "        1.72207675e-001, 1.59359279e-001, 1.29617164e-001,\n",
       "        1.19749517e-001, 1.79716198e-002, 6.46494955e-002,\n",
       "        1.02774208e-002, 6.17017950e-003, 3.37110582e-004,\n",
       "        1.31783413e-005, 1.53949158e-008, 1.75630415e-010,\n",
       "        1.11694291e-008, 6.31632326e-011, 4.85583131e-019,\n",
       "        2.81002353e-017, 1.64623201e-029, 1.15926949e-014,\n",
       "        1.87063925e-036, 3.42597172e-028, 3.09434544e-037,\n",
       "        6.66816018e-053, 2.70499416e-058, 5.78967911e-081,\n",
       "        6.59353475e-196, 2.88796016e-152, 0.00000000e+000,\n",
       "        0.00000000e+000],\n",
       "       [1.03834741e-008, 2.66380552e-008, 2.78597463e-008,\n",
       "        4.63773432e-008, 1.20001576e-007, 7.35901951e-007,\n",
       "        5.58544253e-005, 4.48176057e-004, 2.20111829e-003,\n",
       "        1.86934042e-003, 3.05237032e-003, 6.13915829e-003,\n",
       "        7.46960001e-003, 2.48114056e-002, 1.10997069e-001,\n",
       "        3.41603916e-002, 3.55011974e-002, 1.27156303e-001,\n",
       "        3.65044889e-002, 2.41115103e-001, 6.95750772e-002,\n",
       "        7.46018051e-002, 4.36433675e-002, 1.10404291e-001,\n",
       "        5.50280143e-002, 9.90109371e-003, 4.37874670e-003,\n",
       "        4.52777177e-004, 5.14984883e-004, 1.70476658e-005,\n",
       "        2.51245314e-007, 3.31598562e-010, 6.98420762e-013,\n",
       "        1.58856213e-011, 3.34512643e-013, 9.96136608e-022,\n",
       "        1.54341020e-020, 4.73994775e-033, 2.75219953e-018,\n",
       "        5.01802733e-041, 1.35513673e-032, 3.02321018e-042,\n",
       "        9.53224092e-059, 2.92470751e-064, 1.92088187e-088,\n",
       "        9.63381569e-207, 1.59647720e-162, 0.00000000e+000,\n",
       "        0.00000000e+000],\n",
       "       [7.32423382e-038, 1.11771737e-036, 1.32155654e-036,\n",
       "        5.60584686e-036, 9.74143138e-035, 1.80144134e-032,\n",
       "        1.78045750e-026, 2.58317070e-023, 1.24550862e-020,\n",
       "        9.21212079e-021, 4.58700634e-020, 5.22936729e-019,\n",
       "        3.22323842e-018, 3.53539235e-016, 2.13077452e-012,\n",
       "        2.49283259e-014, 8.62998127e-014, 4.20918493e-011,\n",
       "        3.35019625e-013, 7.79098609e-009, 2.07987808e-009,\n",
       "        7.30127973e-007, 5.88354439e-008, 1.05209128e-005,\n",
       "        4.78632424e-005, 3.50754950e-003, 1.08185794e-005,\n",
       "        7.80029949e-004, 6.67663104e-003, 4.78242037e-002,\n",
       "        8.66554926e-002, 3.97160970e-001, 2.12403123e-001,\n",
       "        1.10815143e-002, 2.30285705e-001, 6.39570334e-004,\n",
       "        1.54991824e-003, 1.66212409e-008, 1.36526923e-003,\n",
       "        1.85841417e-012, 3.98683724e-009, 1.50078948e-013,\n",
       "        2.07532017e-021, 1.65390766e-024, 1.18258126e-040,\n",
       "        4.26388158e-128, 2.67214163e-093, 3.37842221e-240,\n",
       "        0.00000000e+000],\n",
       "       [5.73604958e-011, 1.71196853e-010, 1.97969347e-010,\n",
       "        3.23950208e-010, 1.08312711e-009, 6.89418357e-009,\n",
       "        1.95046391e-006, 2.39474351e-005, 1.86354141e-004,\n",
       "        2.27102830e-004, 2.68167971e-004, 3.62774037e-004,\n",
       "        1.21522832e-003, 2.26814607e-003, 1.61787915e-002,\n",
       "        1.76782084e-002, 2.93520164e-002, 4.24291958e-002,\n",
       "        4.74376880e-002, 4.49304265e-002, 1.68664528e-001,\n",
       "        1.56466561e-001, 2.32100019e-001, 6.29011199e-002,\n",
       "        6.53916971e-002, 4.68061455e-003, 9.42986670e-002,\n",
       "        9.57564927e-003, 3.22309535e-003, 1.32597701e-004,\n",
       "        5.43332817e-006, 2.49543826e-009, 4.15390419e-011,\n",
       "        9.04716881e-009, 1.16327984e-011, 3.58157303e-020,\n",
       "        5.35337683e-018, 7.19882472e-031, 6.25829425e-015,\n",
       "        1.18813763e-037, 6.05031085e-029, 3.39151197e-038,\n",
       "        2.65857835e-054, 7.01771347e-060, 1.54494982e-082,\n",
       "        7.79512424e-199, 1.59140327e-154, 0.00000000e+000,\n",
       "        0.00000000e+000],\n",
       "       [9.81234120e-006, 1.87789267e-005, 2.05027786e-005,\n",
       "        2.73517645e-005, 5.53076118e-005, 1.62407147e-004,\n",
       "        3.71952919e-003, 1.25644893e-002, 3.05213997e-002,\n",
       "        3.44405576e-002, 3.49073192e-002, 3.60533748e-002,\n",
       "        6.20627795e-002, 6.29008295e-002, 7.77825278e-002,\n",
       "        1.21018796e-001, 1.33438322e-001, 8.42023657e-002,\n",
       "        1.39941339e-001, 3.80575519e-002, 6.75461853e-002,\n",
       "        1.78977304e-002, 3.13362747e-002, 6.38077448e-003,\n",
       "        3.24626424e-003, 7.97149461e-005, 1.55947669e-003,\n",
       "        3.67708360e-005, 1.13339022e-005, 1.31132055e-007,\n",
       "        1.34829857e-009, 1.36854001e-013, 3.55681944e-016,\n",
       "        1.53753908e-013, 9.73857586e-017, 1.36852097e-026,\n",
       "        1.57427250e-024, 5.55094310e-039, 3.44505122e-021,\n",
       "        5.06881698e-047, 2.95895297e-037, 8.51365621e-048,\n",
       "        5.91162501e-066, 4.70202624e-072, 5.75805140e-097,\n",
       "        9.07204736e-221, 2.23748301e-174, 0.00000000e+000,\n",
       "        0.00000000e+000],\n",
       "       [5.18447828e-003, 7.23793505e-003, 7.52991053e-003,\n",
       "        8.75945899e-003, 1.22978615e-002, 2.12932963e-002,\n",
       "        7.84655396e-002, 1.06185063e-001, 1.12215193e-001,\n",
       "        1.16236400e-001, 1.09448165e-001, 9.76489879e-002,\n",
       "        9.74401747e-002, 6.88383133e-002, 2.48349939e-002,\n",
       "        4.36765321e-002, 3.49353614e-002, 1.36636391e-002,\n",
       "        2.62035667e-002, 3.65815360e-003, 3.08091815e-003,\n",
       "        3.53623554e-004, 6.35701095e-004, 1.31094613e-004,\n",
       "        3.83742052e-005, 4.96647672e-007, 6.68998601e-006,\n",
       "        5.86834860e-008, 1.90708811e-008, 9.14636555e-011,\n",
       "        3.34917364e-013, 1.34612191e-017, 8.19901049e-021,\n",
       "        4.57848133e-018, 2.32331796e-021, 4.00975564e-032,\n",
       "        3.13149349e-030, 1.00813603e-045, 8.81126068e-027,\n",
       "        1.00232563e-054, 2.88630832e-044, 1.01741170e-055,\n",
       "        2.63084833e-075, 9.40423636e-082, 2.45899646e-108,\n",
       "        2.04966227e-237, 1.28153363e-189, 0.00000000e+000,\n",
       "        0.00000000e+000],\n",
       "       [1.98338078e-079, 1.51099361e-077, 2.21654449e-077,\n",
       "        1.95263567e-076, 2.11044762e-074, 6.27654245e-071,\n",
       "        5.78171380e-061, 8.93408002e-056, 2.92680048e-051,\n",
       "        2.95240231e-051, 2.46503315e-050, 7.12211169e-049,\n",
       "        5.26208905e-047, 4.87983952e-044, 1.64764099e-037,\n",
       "        6.12436233e-040, 9.62124629e-039, 8.40934032e-035,\n",
       "        1.83866021e-037, 3.11880440e-031, 1.56001772e-030,\n",
       "        4.83014695e-026, 2.34699057e-027, 9.45714096e-025,\n",
       "        5.98434458e-023, 1.86208923e-019, 9.18083795e-022,\n",
       "        1.24177129e-017, 1.29781960e-016, 8.97215481e-014,\n",
       "        2.54983804e-011, 2.37130799e-008, 1.20432991e-005,\n",
       "        6.66907276e-008, 1.34516880e-005, 2.40536696e-003,\n",
       "        1.84994339e-002, 8.58894182e-002, 2.05795628e-003,\n",
       "        4.01560595e-001, 1.45489610e-001, 2.51863420e-001,\n",
       "        8.71545264e-002, 5.05408687e-003, 6.14460679e-011,\n",
       "        2.81983346e-071, 6.16130170e-044, 7.82100521e-164,\n",
       "        0.00000000e+000],\n",
       "       [5.52804053e-006, 1.10471764e-005, 1.14633859e-005,\n",
       "        1.65727619e-005, 3.31646037e-005, 1.22955689e-004,\n",
       "        2.60985191e-003, 1.00949615e-002, 2.62695139e-002,\n",
       "        2.36416877e-002, 3.16199693e-002, 4.71440452e-002,\n",
       "        5.00343445e-002, 9.30229030e-002, 1.49401087e-001,\n",
       "        8.53030621e-002, 7.77966076e-002, 1.22049593e-001,\n",
       "        6.87878963e-002, 1.10163581e-001, 4.19473533e-002,\n",
       "        1.87096657e-002, 1.61902941e-002, 1.72398419e-002,\n",
       "        6.67161187e-003, 4.45994397e-004, 6.13503589e-004,\n",
       "        2.38911220e-005, 1.77372158e-005, 2.69703536e-007,\n",
       "        2.15883378e-009, 7.58843239e-013, 8.68276438e-016,\n",
       "        6.16744655e-014, 3.48331480e-016, 1.34487976e-025,\n",
       "        3.47339955e-024, 7.37833104e-038, 1.65910488e-021,\n",
       "        2.61367440e-046, 4.32979632e-037, 1.77099747e-047,\n",
       "        3.17223061e-065, 4.18822901e-071, 2.51750862e-096,\n",
       "        5.18838025e-219, 2.22067633e-173, 0.00000000e+000,\n",
       "        0.00000000e+000],\n",
       "       [2.55721804e-004, 4.26256636e-004, 4.37897366e-004,\n",
       "        5.74110222e-004, 9.48970391e-004, 2.47101514e-003,\n",
       "        2.02860734e-002, 4.62258942e-002, 7.55843990e-002,\n",
       "        6.96870457e-002, 8.22718524e-002, 1.01315096e-001,\n",
       "        9.33532667e-002, 1.18762445e-001, 9.12841722e-002,\n",
       "        7.57936458e-002, 6.17701290e-002, 5.67129908e-002,\n",
       "        4.81540142e-002, 3.12877346e-002, 1.28747724e-002,\n",
       "        3.13163002e-003, 3.41556633e-003, 2.19829540e-003,\n",
       "        6.89497918e-004, 2.40599733e-005, 6.15232346e-005,\n",
       "        1.21189049e-006, 7.05677995e-007, 6.16944826e-009,\n",
       "        3.07771998e-011, 4.50226131e-015, 3.06275841e-018,\n",
       "        4.35216200e-016, 1.11230784e-018, 1.02876351e-028,\n",
       "        3.42665108e-027, 1.16868983e-041, 2.99240287e-024,\n",
       "        1.70115373e-050, 9.72611420e-041, 1.16620599e-051,\n",
       "        2.70183580e-070, 1.99243898e-076, 1.92139243e-102,\n",
       "        2.76756278e-228, 1.13801947e-181, 0.00000000e+000,\n",
       "        0.00000000e+000],\n",
       "       [4.23830213e-009, 1.09731869e-008, 1.23836718e-008,\n",
       "        1.91045422e-008, 5.40418133e-008, 2.73094966e-007,\n",
       "        3.34119753e-005, 2.71748626e-004, 1.45021920e-003,\n",
       "        1.68213034e-003, 1.94496243e-003, 2.50234560e-003,\n",
       "        6.39144085e-003, 1.03988023e-002, 4.27524690e-002,\n",
       "        4.72017649e-002, 6.70970508e-002, 8.12458457e-002,\n",
       "        9.23205450e-002, 6.98917859e-002, 1.74002922e-001,\n",
       "        1.12776853e-001, 1.63977460e-001, 4.81921319e-002,\n",
       "        3.84362185e-002, 2.14888926e-003, 3.23517666e-002,\n",
       "        2.13917707e-003, 7.67757822e-004, 2.13858510e-005,\n",
       "        5.40527583e-007, 1.72030354e-010, 1.42156214e-012,\n",
       "        3.20584652e-010, 4.11488373e-013, 5.08810919e-022,\n",
       "        5.95295536e-020, 2.90970862e-033, 7.28396441e-017,\n",
       "        1.66984744e-040, 1.66497643e-031, 3.63344873e-041,\n",
       "        6.61191588e-058, 1.23927371e-063, 4.55475255e-087,\n",
       "        1.00252317e-205, 8.27929414e-161, 0.00000000e+000,\n",
       "        0.00000000e+000],\n",
       "       [7.34113982e-013, 2.59381286e-012, 2.80727215e-012,\n",
       "        5.45564344e-012, 2.01271373e-011, 2.19853561e-010,\n",
       "        9.79845579e-008, 1.99443106e-006, 2.25311604e-005,\n",
       "        1.96348710e-005, 3.70015463e-005, 9.43824274e-005,\n",
       "        1.73040156e-004, 9.56477389e-004, 1.52953024e-002,\n",
       "        3.22765652e-003, 4.37536804e-003, 3.16333385e-002,\n",
       "        5.97990178e-003, 1.19652146e-001, 4.82713395e-002,\n",
       "        1.34265520e-001, 6.38764734e-002, 2.44026793e-001,\n",
       "        1.94847975e-001, 8.49015107e-002, 2.73768103e-002,\n",
       "        8.48249909e-003, 1.14794857e-002, 9.65840163e-004,\n",
       "        3.66999720e-005, 1.65110485e-007, 1.16705936e-009,\n",
       "        1.29934110e-008, 5.96162685e-010, 1.79519512e-017,\n",
       "        2.77016697e-016, 1.40705897e-027, 2.61268366e-014,\n",
       "        1.02544494e-034, 4.19742452e-027, 8.01507895e-036,\n",
       "        8.09320234e-051, 6.19110080e-056, 1.46667409e-078,\n",
       "        2.09959122e-191, 9.35198859e-149, 1.21095490e-320,\n",
       "        0.00000000e+000],\n",
       "       [1.60820388e-001, 1.54281545e-001, 1.53867214e-001,\n",
       "        1.49627051e-001, 1.38305085e-001, 1.22445547e-001,\n",
       "        5.59905682e-002, 2.54579080e-002, 1.01174040e-002,\n",
       "        1.00798296e-002, 8.10234499e-003, 5.54146850e-003,\n",
       "        3.35055033e-003, 1.32992566e-003, 1.08170928e-004,\n",
       "        2.85574797e-004, 1.65865714e-004, 2.93736538e-005,\n",
       "        8.84239679e-005, 3.58102280e-006, 1.91763779e-006,\n",
       "        7.30906412e-008, 1.63184915e-007, 2.20537581e-008,\n",
       "        3.66867688e-009, 1.74106022e-011, 3.07619942e-010,\n",
       "        7.55617437e-013, 2.06898627e-013, 3.34375856e-016,\n",
       "        3.97731636e-019, 3.95557200e-024, 5.61564126e-028,\n",
       "        6.79006814e-025, 1.49657661e-028, 1.76134598e-040,\n",
       "        1.30610361e-038, 1.65525880e-055, 7.34263186e-035,\n",
       "        1.63858720e-065, 4.14617459e-054, 1.18283748e-066,\n",
       "        5.35630020e-088, 6.65835958e-095, 2.48898283e-123,\n",
       "        8.65075876e-259, 3.57422471e-209, 0.00000000e+000,\n",
       "        0.00000000e+000]])"
      ]
     },
     "execution_count": 71,
     "metadata": {},
     "output_type": "execute_result"
    }
   ],
   "source": [
    "prob_log_reg = log_reg.predict_proba(X_train)\n",
    "prob_log_reg[:20]"
   ]
  },
  {
   "cell_type": "markdown",
   "id": "d4e59cd4",
   "metadata": {},
   "source": [
    "##### Here, we have the first 20 predicted probabilities for the training data:"
   ]
  },
  {
   "cell_type": "code",
   "execution_count": 72,
   "id": "2e8337a9",
   "metadata": {},
   "outputs": [
    {
     "data": {
      "text/plain": [
       "array([30278310,  1910860, 38328915, 12349530, 29638290,    52580,\n",
       "         387180, 25606455,  8356725,  6176205, 17769135,  8373210,\n",
       "        5515855,  2713025, 29637655,  4677910,  3531485,  7252325,\n",
       "        8421900,    52580])"
      ]
     },
     "execution_count": 72,
     "metadata": {},
     "output_type": "execute_result"
    }
   ],
   "source": [
    "y_pred_log_reg = log_reg.predict(X_train)\n",
    "y_pred_log_reg[:20]"
   ]
  },
  {
   "cell_type": "code",
   "execution_count": 73,
   "id": "4c460904",
   "metadata": {},
   "outputs": [
    {
     "data": {
      "text/plain": [
       "False"
      ]
     },
     "execution_count": 73,
     "metadata": {},
     "output_type": "execute_result"
    }
   ],
   "source": [
    "np.all(y_pred_log_reg == (prob_log_reg[:,2] > 0.5))"
   ]
  },
  {
   "cell_type": "code",
   "execution_count": 74,
   "id": "b4e43378",
   "metadata": {},
   "outputs": [
    {
     "data": {
      "text/plain": [
       "total_doses_bin                               0.00\n",
       "total doses administered by jurisdiction   -472.02\n",
       "total doses distributed                    -474.35\n",
       "dtype: float64"
      ]
     },
     "execution_count": 74,
     "metadata": {},
     "output_type": "execute_result"
    }
   ],
   "source": [
    "pd.Series(data=log_reg.coef_[0], index=X_train.columns).sort_values(ascending=False).round(2)"
   ]
  },
  {
   "cell_type": "markdown",
   "id": "d1bc64e3",
   "metadata": {},
   "source": [
    "##### Finally, we have the coefficients associated with each of the features used:"
   ]
  },
  {
   "cell_type": "code",
   "execution_count": 75,
   "id": "16a756c8",
   "metadata": {},
   "outputs": [
    {
     "data": {
      "text/plain": [
       "0.8571428571428571"
      ]
     },
     "execution_count": 75,
     "metadata": {},
     "output_type": "execute_result"
    }
   ],
   "source": [
    "from sklearn.metrics import accuracy_score\n",
    "accuracy_log_reg = accuracy_score(y_true=y_train, y_pred=y_pred_log_reg)\n",
    "accuracy_log_reg"
   ]
  },
  {
   "cell_type": "markdown",
   "id": "8d13fbc2",
   "metadata": {},
   "source": [
    "##### 85.71% of the predictions made in the training set are correct."
   ]
  },
  {
   "cell_type": "markdown",
   "id": "395dc23c",
   "metadata": {},
   "source": [
    "### Classification Trees"
   ]
  },
  {
   "cell_type": "code",
   "execution_count": 76,
   "id": "618965a5",
   "metadata": {},
   "outputs": [
    {
     "data": {
      "text/html": [
       "<style>#sk-container-id-2 {color: black;}#sk-container-id-2 pre{padding: 0;}#sk-container-id-2 div.sk-toggleable {background-color: white;}#sk-container-id-2 label.sk-toggleable__label {cursor: pointer;display: block;width: 100%;margin-bottom: 0;padding: 0.3em;box-sizing: border-box;text-align: center;}#sk-container-id-2 label.sk-toggleable__label-arrow:before {content: \"▸\";float: left;margin-right: 0.25em;color: #696969;}#sk-container-id-2 label.sk-toggleable__label-arrow:hover:before {color: black;}#sk-container-id-2 div.sk-estimator:hover label.sk-toggleable__label-arrow:before {color: black;}#sk-container-id-2 div.sk-toggleable__content {max-height: 0;max-width: 0;overflow: hidden;text-align: left;background-color: #f0f8ff;}#sk-container-id-2 div.sk-toggleable__content pre {margin: 0.2em;color: black;border-radius: 0.25em;background-color: #f0f8ff;}#sk-container-id-2 input.sk-toggleable__control:checked~div.sk-toggleable__content {max-height: 200px;max-width: 100%;overflow: auto;}#sk-container-id-2 input.sk-toggleable__control:checked~label.sk-toggleable__label-arrow:before {content: \"▾\";}#sk-container-id-2 div.sk-estimator input.sk-toggleable__control:checked~label.sk-toggleable__label {background-color: #d4ebff;}#sk-container-id-2 div.sk-label input.sk-toggleable__control:checked~label.sk-toggleable__label {background-color: #d4ebff;}#sk-container-id-2 input.sk-hidden--visually {border: 0;clip: rect(1px 1px 1px 1px);clip: rect(1px, 1px, 1px, 1px);height: 1px;margin: -1px;overflow: hidden;padding: 0;position: absolute;width: 1px;}#sk-container-id-2 div.sk-estimator {font-family: monospace;background-color: #f0f8ff;border: 1px dotted black;border-radius: 0.25em;box-sizing: border-box;margin-bottom: 0.5em;}#sk-container-id-2 div.sk-estimator:hover {background-color: #d4ebff;}#sk-container-id-2 div.sk-parallel-item::after {content: \"\";width: 100%;border-bottom: 1px solid gray;flex-grow: 1;}#sk-container-id-2 div.sk-label:hover label.sk-toggleable__label {background-color: #d4ebff;}#sk-container-id-2 div.sk-serial::before {content: \"\";position: absolute;border-left: 1px solid gray;box-sizing: border-box;top: 0;bottom: 0;left: 50%;z-index: 0;}#sk-container-id-2 div.sk-serial {display: flex;flex-direction: column;align-items: center;background-color: white;padding-right: 0.2em;padding-left: 0.2em;position: relative;}#sk-container-id-2 div.sk-item {position: relative;z-index: 1;}#sk-container-id-2 div.sk-parallel {display: flex;align-items: stretch;justify-content: center;background-color: white;position: relative;}#sk-container-id-2 div.sk-item::before, #sk-container-id-2 div.sk-parallel-item::before {content: \"\";position: absolute;border-left: 1px solid gray;box-sizing: border-box;top: 0;bottom: 0;left: 50%;z-index: -1;}#sk-container-id-2 div.sk-parallel-item {display: flex;flex-direction: column;z-index: 1;position: relative;background-color: white;}#sk-container-id-2 div.sk-parallel-item:first-child::after {align-self: flex-end;width: 50%;}#sk-container-id-2 div.sk-parallel-item:last-child::after {align-self: flex-start;width: 50%;}#sk-container-id-2 div.sk-parallel-item:only-child::after {width: 0;}#sk-container-id-2 div.sk-dashed-wrapped {border: 1px dashed gray;margin: 0 0.4em 0.5em 0.4em;box-sizing: border-box;padding-bottom: 0.4em;background-color: white;}#sk-container-id-2 div.sk-label label {font-family: monospace;font-weight: bold;display: inline-block;line-height: 1.2em;}#sk-container-id-2 div.sk-label-container {text-align: center;}#sk-container-id-2 div.sk-container {/* jupyter's `normalize.less` sets `[hidden] { display: none; }` but bootstrap.min.css set `[hidden] { display: none !important; }` so we also need the `!important` here to be able to override the default hidden behavior on the sphinx rendered scikit-learn.org. See: https://github.com/scikit-learn/scikit-learn/issues/21755 */display: inline-block !important;position: relative;}#sk-container-id-2 div.sk-text-repr-fallback {display: none;}</style><div id=\"sk-container-id-2\" class=\"sk-top-container\"><div class=\"sk-text-repr-fallback\"><pre>DecisionTreeClassifier(max_depth=3)</pre><b>In a Jupyter environment, please rerun this cell to show the HTML representation or trust the notebook. <br />On GitHub, the HTML representation is unable to render, please try loading this page with nbviewer.org.</b></div><div class=\"sk-container\" hidden><div class=\"sk-item\"><div class=\"sk-estimator sk-toggleable\"><input class=\"sk-toggleable__control sk-hidden--visually\" id=\"sk-estimator-id-2\" type=\"checkbox\" checked><label for=\"sk-estimator-id-2\" class=\"sk-toggleable__label sk-toggleable__label-arrow\">DecisionTreeClassifier</label><div class=\"sk-toggleable__content\"><pre>DecisionTreeClassifier(max_depth=3)</pre></div></div></div></div></div>"
      ],
      "text/plain": [
       "DecisionTreeClassifier(max_depth=3)"
      ]
     },
     "execution_count": 76,
     "metadata": {},
     "output_type": "execute_result"
    }
   ],
   "source": [
    "from sklearn.tree import DecisionTreeClassifier\n",
    "class_tree = DecisionTreeClassifier(max_depth=3)\n",
    "class_tree.fit(X_train, y_train)"
   ]
  },
  {
   "cell_type": "code",
   "execution_count": 81,
   "id": "0e0e88b3",
   "metadata": {},
   "outputs": [],
   "source": [
    "import six\n",
    "import sys\n",
    "sys.modules['sklearn.externals.six'] = six"
   ]
  },
  {
   "cell_type": "code",
   "execution_count": 82,
   "id": "d5052547",
   "metadata": {},
   "outputs": [
    {
     "ename": "ModuleNotFoundError",
     "evalue": "No module named 'pydotplus'",
     "output_type": "error",
     "traceback": [
      "\u001b[0;31m---------------------------------------------------------------------------\u001b[0m",
      "\u001b[0;31mModuleNotFoundError\u001b[0m                       Traceback (most recent call last)",
      "Cell \u001b[0;32mIn[82], line 4\u001b[0m\n\u001b[1;32m      2\u001b[0m \u001b[38;5;28;01mfrom\u001b[39;00m \u001b[38;5;21;01msklearn\u001b[39;00m\u001b[38;5;21;01m.\u001b[39;00m\u001b[38;5;21;01mtree\u001b[39;00m \u001b[38;5;28;01mimport\u001b[39;00m export_graphviz\n\u001b[1;32m      3\u001b[0m \u001b[38;5;28;01mfrom\u001b[39;00m \u001b[38;5;21;01mIPython\u001b[39;00m\u001b[38;5;21;01m.\u001b[39;00m\u001b[38;5;21;01mdisplay\u001b[39;00m \u001b[38;5;28;01mimport\u001b[39;00m Image  \n\u001b[0;32m----> 4\u001b[0m \u001b[38;5;28;01mimport\u001b[39;00m \u001b[38;5;21;01mpydotplus\u001b[39;00m\n",
      "\u001b[0;31mModuleNotFoundError\u001b[0m: No module named 'pydotplus'"
     ]
    }
   ],
   "source": [
    "from sklearn.externals.six import StringIO  \n",
    "from sklearn.tree import export_graphviz\n",
    "from IPython.display import Image  \n",
    "import pydotplus\n"
   ]
  },
  {
   "cell_type": "code",
   "execution_count": 196,
   "id": "0af7a9b1",
   "metadata": {},
   "outputs": [],
   "source": [
    "from sklearn.ensemble import RandomForestClassifier\n",
    "rf = RandomForestClassifier(n_estimators=51,\n",
    "                            max_features=3,\n",
    "                            max_depth=3,\n",
    "                            min_samples_split=23,\n",
    "                            random_state=49)\n",
    "rf.fit(X_train, y_train)\n",
    "y_pred_rf = rf.predict(X_train)"
   ]
  },
  {
   "cell_type": "code",
   "execution_count": 197,
   "id": "5d6c9df3",
   "metadata": {},
   "outputs": [
    {
     "data": {
      "text/plain": [
       "0.6037735849056604"
      ]
     },
     "execution_count": 197,
     "metadata": {},
     "output_type": "execute_result"
    }
   ],
   "source": [
    "accuracy_rf = accuracy_score(y_true=y_train, y_pred=y_pred_rf)\n",
    "accuracy_rf"
   ]
  },
  {
   "cell_type": "code",
   "execution_count": 198,
   "id": "4e064989",
   "metadata": {},
   "outputs": [
    {
     "data": {
      "text/plain": [
       "total doses distributed                     0.526\n",
       "total doses administered by jurisdiction    0.474\n",
       "total_doses_bin                             0.000\n",
       "dtype: float64"
      ]
     },
     "execution_count": 198,
     "metadata": {},
     "output_type": "execute_result"
    }
   ],
   "source": [
    "pd.Series(data=rf.feature_importances_, index=X_train.columns).sort_values(ascending=False).round(3)\n"
   ]
  },
  {
   "cell_type": "markdown",
   "id": "e76e6630",
   "metadata": {},
   "source": [
    "##### 52% of the target feature is accurate."
   ]
  },
  {
   "cell_type": "markdown",
   "id": "68f99689",
   "metadata": {},
   "source": [
    "### Training vs Testing Error"
   ]
  },
  {
   "cell_type": "code",
   "execution_count": 199,
   "id": "6ed07845",
   "metadata": {},
   "outputs": [
    {
     "data": {
      "text/plain": [
       "0.0"
      ]
     },
     "execution_count": 199,
     "metadata": {},
     "output_type": "execute_result"
    }
   ],
   "source": [
    "from sklearn.metrics import accuracy_score\n",
    "\n",
    "y_pred_null = np.zeros_like(y_test)\n",
    "accuracy_score(y_true=y_test, y_pred=y_pred_null)"
   ]
  },
  {
   "cell_type": "code",
   "execution_count": 200,
   "id": "904f91cf",
   "metadata": {},
   "outputs": [],
   "source": [
    "#standarize the numerical features in the testing set\n",
    "X_test.loc[:, numerical_features] = scaler.transform(X_test[numerical_features])"
   ]
  },
  {
   "cell_type": "code",
   "execution_count": 201,
   "id": "94d04abb",
   "metadata": {},
   "outputs": [
    {
     "data": {
      "text/html": [
       "<div>\n",
       "<style scoped>\n",
       "    .dataframe tbody tr th:only-of-type {\n",
       "        vertical-align: middle;\n",
       "    }\n",
       "\n",
       "    .dataframe tbody tr th {\n",
       "        vertical-align: top;\n",
       "    }\n",
       "\n",
       "    .dataframe thead th {\n",
       "        text-align: right;\n",
       "    }\n",
       "</style>\n",
       "<table border=\"1\" class=\"dataframe\">\n",
       "  <thead>\n",
       "    <tr style=\"text-align: right;\">\n",
       "      <th></th>\n",
       "      <th>train</th>\n",
       "      <th>test</th>\n",
       "    </tr>\n",
       "  </thead>\n",
       "  <tbody>\n",
       "    <tr>\n",
       "      <th>LogisticReg</th>\n",
       "      <td>0.603774</td>\n",
       "      <td>0.5</td>\n",
       "    </tr>\n",
       "    <tr>\n",
       "      <th>ClassTree</th>\n",
       "      <td>0.018868</td>\n",
       "      <td>0.0</td>\n",
       "    </tr>\n",
       "    <tr>\n",
       "      <th>RF</th>\n",
       "      <td>0.603774</td>\n",
       "      <td>0.0</td>\n",
       "    </tr>\n",
       "  </tbody>\n",
       "</table>\n",
       "</div>"
      ],
      "text/plain": [
       "                train test\n",
       "LogisticReg  0.603774  0.5\n",
       "ClassTree    0.018868  0.0\n",
       "RF           0.603774  0.0"
      ]
     },
     "execution_count": 201,
     "metadata": {},
     "output_type": "execute_result"
    }
   ],
   "source": [
    "# Calculating accuracy\n",
    "accuracies = pd.DataFrame(columns=['train', 'test'], index=['LogisticReg','ClassTree','RF'])\n",
    "model_dict = {'LogisticReg': log_reg, 'ClassTree': class_tree, 'RF': rf}\n",
    "for name, model in model_dict.items():\n",
    "    accuracies.loc[name, 'train'] = accuracy_score(y_true=y_train, y_pred=model.predict(X_train))\n",
    "    accuracies.loc[name, 'test'] = accuracy_score(y_true=y_test, y_pred=model.predict(X_test))\n",
    "\n",
    "accuracies"
   ]
  },
  {
   "cell_type": "markdown",
   "id": "53cfebc5",
   "metadata": {},
   "source": [
    "##### The 3 models are performing inequally."
   ]
  },
  {
   "cell_type": "code",
   "execution_count": 202,
   "id": "3c39a06f",
   "metadata": {},
   "outputs": [
    {
     "data": {
      "image/png": "[encoded data removed]",
      "text/plain": [
       "<Figure size 640x480 with 1 Axes>"
      ]
     },
     "metadata": {},
     "output_type": "display_data"
    }
   ],
   "source": [
    "#model traaning vizualization\n",
    "fig, ax = plt.subplots()\n",
    "accuracies.sort_values(by='test', ascending=False).plot(kind='barh', ax=ax, zorder=3)\n",
    "ax.grid(zorder=0)"
   ]
  },
  {
   "cell_type": "markdown",
   "id": "f314d1a4",
   "metadata": {},
   "source": [
    "### Performance metrics"
   ]
  },
  {
   "cell_type": "code",
   "execution_count": 203,
   "id": "b6be838c",
   "metadata": {},
   "outputs": [],
   "source": [
    "from sklearn.linear_model import LinearRegression\n",
    "ml_reg = LinearRegression()\n",
    "ml_reg.fit(X_train, y_train)\n",
    "y_pred = ml_reg.predict(X_test)"
   ]
  },
  {
   "cell_type": "code",
   "execution_count": 204,
   "id": "022c8133",
   "metadata": {},
   "outputs": [
    {
     "data": {
      "text/html": [
       "<style>#sk-container-id-8 {color: black;}#sk-container-id-8 pre{padding: 0;}#sk-container-id-8 div.sk-toggleable {background-color: white;}#sk-container-id-8 label.sk-toggleable__label {cursor: pointer;display: block;width: 100%;margin-bottom: 0;padding: 0.3em;box-sizing: border-box;text-align: center;}#sk-container-id-8 label.sk-toggleable__label-arrow:before {content: \"▸\";float: left;margin-right: 0.25em;color: #696969;}#sk-container-id-8 label.sk-toggleable__label-arrow:hover:before {color: black;}#sk-container-id-8 div.sk-estimator:hover label.sk-toggleable__label-arrow:before {color: black;}#sk-container-id-8 div.sk-toggleable__content {max-height: 0;max-width: 0;overflow: hidden;text-align: left;background-color: #f0f8ff;}#sk-container-id-8 div.sk-toggleable__content pre {margin: 0.2em;color: black;border-radius: 0.25em;background-color: #f0f8ff;}#sk-container-id-8 input.sk-toggleable__control:checked~div.sk-toggleable__content {max-height: 200px;max-width: 100%;overflow: auto;}#sk-container-id-8 input.sk-toggleable__control:checked~label.sk-toggleable__label-arrow:before {content: \"▾\";}#sk-container-id-8 div.sk-estimator input.sk-toggleable__control:checked~label.sk-toggleable__label {background-color: #d4ebff;}#sk-container-id-8 div.sk-label input.sk-toggleable__control:checked~label.sk-toggleable__label {background-color: #d4ebff;}#sk-container-id-8 input.sk-hidden--visually {border: 0;clip: rect(1px 1px 1px 1px);clip: rect(1px, 1px, 1px, 1px);height: 1px;margin: -1px;overflow: hidden;padding: 0;position: absolute;width: 1px;}#sk-container-id-8 div.sk-estimator {font-family: monospace;background-color: #f0f8ff;border: 1px dotted black;border-radius: 0.25em;box-sizing: border-box;margin-bottom: 0.5em;}#sk-container-id-8 div.sk-estimator:hover {background-color: #d4ebff;}#sk-container-id-8 div.sk-parallel-item::after {content: \"\";width: 100%;border-bottom: 1px solid gray;flex-grow: 1;}#sk-container-id-8 div.sk-label:hover label.sk-toggleable__label {background-color: #d4ebff;}#sk-container-id-8 div.sk-serial::before {content: \"\";position: absolute;border-left: 1px solid gray;box-sizing: border-box;top: 0;bottom: 0;left: 50%;z-index: 0;}#sk-container-id-8 div.sk-serial {display: flex;flex-direction: column;align-items: center;background-color: white;padding-right: 0.2em;padding-left: 0.2em;position: relative;}#sk-container-id-8 div.sk-item {position: relative;z-index: 1;}#sk-container-id-8 div.sk-parallel {display: flex;align-items: stretch;justify-content: center;background-color: white;position: relative;}#sk-container-id-8 div.sk-item::before, #sk-container-id-8 div.sk-parallel-item::before {content: \"\";position: absolute;border-left: 1px solid gray;box-sizing: border-box;top: 0;bottom: 0;left: 50%;z-index: -1;}#sk-container-id-8 div.sk-parallel-item {display: flex;flex-direction: column;z-index: 1;position: relative;background-color: white;}#sk-container-id-8 div.sk-parallel-item:first-child::after {align-self: flex-end;width: 50%;}#sk-container-id-8 div.sk-parallel-item:last-child::after {align-self: flex-start;width: 50%;}#sk-container-id-8 div.sk-parallel-item:only-child::after {width: 0;}#sk-container-id-8 div.sk-dashed-wrapped {border: 1px dashed gray;margin: 0 0.4em 0.5em 0.4em;box-sizing: border-box;padding-bottom: 0.4em;background-color: white;}#sk-container-id-8 div.sk-label label {font-family: monospace;font-weight: bold;display: inline-block;line-height: 1.2em;}#sk-container-id-8 div.sk-label-container {text-align: center;}#sk-container-id-8 div.sk-container {/* jupyter's `normalize.less` sets `[hidden] { display: none; }` but bootstrap.min.css set `[hidden] { display: none !important; }` so we also need the `!important` here to be able to override the default hidden behavior on the sphinx rendered scikit-learn.org. See: https://github.com/scikit-learn/scikit-learn/issues/21755 */display: inline-block !important;position: relative;}#sk-container-id-8 div.sk-text-repr-fallback {display: none;}</style><div id=\"sk-container-id-8\" class=\"sk-top-container\"><div class=\"sk-text-repr-fallback\"><pre>RandomForestClassifier(max_depth=4, max_features=6, n_estimators=25,\n",
       "                       random_state=61)</pre><b>In a Jupyter environment, please rerun this cell to show the HTML representation or trust the notebook. <br />On GitHub, the HTML representation is unable to render, please try loading this page with nbviewer.org.</b></div><div class=\"sk-container\" hidden><div class=\"sk-item\"><div class=\"sk-estimator sk-toggleable\"><input class=\"sk-toggleable__control sk-hidden--visually\" id=\"sk-estimator-id-8\" type=\"checkbox\" checked><label for=\"sk-estimator-id-8\" class=\"sk-toggleable__label sk-toggleable__label-arrow\">RandomForestClassifier</label><div class=\"sk-toggleable__content\"><pre>RandomForestClassifier(max_depth=4, max_features=6, n_estimators=25,\n",
       "                       random_state=61)</pre></div></div></div></div></div>"
      ],
      "text/plain": [
       "RandomForestClassifier(max_depth=4, max_features=6, n_estimators=25,\n",
       "                       random_state=61)"
      ]
     },
     "execution_count": 204,
     "metadata": {},
     "output_type": "execute_result"
    }
   ],
   "source": [
    "from sklearn.ensemble import RandomForestClassifier\n",
    "rf = RandomForestClassifier(n_estimators=25,\n",
    "                            max_features=6,\n",
    "                            max_depth=4,\n",
    "                            random_state=61)\n",
    "rf.fit(X_train, y_train)"
   ]
  },
  {
   "cell_type": "code",
   "execution_count": 205,
   "id": "b4541ab1",
   "metadata": {},
   "outputs": [
    {
     "name": "stdout",
     "output_type": "stream",
     "text": [
      "RMSE: 0.00\n"
     ]
    }
   ],
   "source": [
    "#Root Mean Squared Error\n",
    "\n",
    "from sklearn.metrics import mean_squared_error\n",
    "rmse = mean_squared_error(y_true=y_test, y_pred=y_pred)**0.5\n",
    "print(\"RMSE: {:,.2f}\".format(rmse))\n"
   ]
  },
  {
   "cell_type": "code",
   "execution_count": 206,
   "id": "410fd069",
   "metadata": {},
   "outputs": [
    {
     "name": "stdout",
     "output_type": "stream",
     "text": [
      "MAE: 0.00\n"
     ]
    }
   ],
   "source": [
    "##Mean Absolute Error\n",
    "from sklearn.metrics import mean_absolute_error\n",
    "mae = mean_absolute_error(y_true=y_test, y_pred=y_pred)\n",
    "print(\"MAE: {:,.2f}\".format(mae))"
   ]
  },
  {
   "cell_type": "code",
   "execution_count": 207,
   "id": "eeeec4c1",
   "metadata": {},
   "outputs": [
    {
     "name": "stdout",
     "output_type": "stream",
     "text": [
      "R-squared: 1.00\n"
     ]
    }
   ],
   "source": [
    "## R-squared (R2)\n",
    "from sklearn.metrics import r2_score\n",
    "r2 = r2_score(y_true=y_test, y_pred=y_pred)\n",
    "print(\"R-squared: {:,.2f}\".format(r2))"
   ]
  },
  {
   "cell_type": "code",
   "execution_count": 208,
   "id": "1a9149fb",
   "metadata": {},
   "outputs": [],
   "source": [
    "eval_df = pd.DataFrame({\"y_true\": y_test, \"y_pred\": y_pred, \"residuals\": y_test - y_pred})\n"
   ]
  },
  {
   "cell_type": "code",
   "execution_count": 209,
   "id": "9baf8c8b",
   "metadata": {},
   "outputs": [],
   "source": [
    "## Costum metric: Percentage of Predictions Within Acceptable Error\n",
    "eval_df[\"prop_error\"] = eval_df[\"residuals\"].abs()/eval_df[\"y_true\"]\n"
   ]
  },
  {
   "cell_type": "code",
   "execution_count": 210,
   "id": "b32e2ba3",
   "metadata": {},
   "outputs": [
    {
     "name": "stdout",
     "output_type": "stream",
     "text": [
      "Costum metric: 100.0%\n"
     ]
    }
   ],
   "source": [
    "costum_metric = 100*(eval_df[\"prop_error\"] < 0.15).mean()\n",
    "print(\"Costum metric: {:,.1f}%\".format(costum_metric))"
   ]
  },
  {
   "cell_type": "markdown",
   "id": "5388533a",
   "metadata": {},
   "source": [
    "### Model Visualization"
   ]
  },
  {
   "cell_type": "code",
   "execution_count": 211,
   "id": "7b8e97ae",
   "metadata": {},
   "outputs": [
    {
     "data": {
      "image/png": "[encoded data removed]",
      "text/plain": [
       "<Figure size 640x480 with 1 Axes>"
      ]
     },
     "metadata": {},
     "output_type": "display_data"
    }
   ],
   "source": [
    "## Distributions of residuals\n",
    "eval_df[\"residuals\"].hist(bins=25, ec='k');\n"
   ]
  },
  {
   "cell_type": "code",
   "execution_count": 212,
   "id": "de54d1e2",
   "metadata": {},
   "outputs": [
    {
     "data": {
      "text/plain": [
       "0.0"
      ]
     },
     "execution_count": 212,
     "metadata": {},
     "output_type": "execute_result"
    }
   ],
   "source": [
    "(eval_df[\"residuals\"] <=0).mean()"
   ]
  },
  {
   "cell_type": "code",
   "execution_count": 213,
   "id": "283a2315",
   "metadata": {},
   "outputs": [
    {
     "data": {
      "image/png": "[encoded data removed]",
      "text/plain": [
       "<Figure size 800x500 with 1 Axes>"
      ]
     },
     "metadata": {},
     "output_type": "display_data"
    }
   ],
   "source": [
    "## Observed vs. predicted values plot\n",
    "fig, ax = plt.subplots(figsize=(8,5))\n",
    "ax.scatter(eval_df[\"y_true\"], eval_df[\"y_pred\"], s=3)\n",
    "ax.plot(eval_df[\"y_true\"], eval_df[\"y_true\"], color='red')\n",
    "ax.set_title('Predictions vs. observed values', fontsize=16)\n",
    "ax.set_xlabel('Observed target', fontsize=14)\n",
    "ax.set_ylabel('Predicted target', fontsize=14)\n",
    "ax.grid();"
   ]
  },
  {
   "cell_type": "code",
   "execution_count": 176,
   "id": "328dcca0",
   "metadata": {},
   "outputs": [
    {
     "data": {
      "text/plain": [
       "Series([], Name: y_pred, dtype: float64)"
      ]
     },
     "execution_count": 176,
     "metadata": {},
     "output_type": "execute_result"
    }
   ],
   "source": [
    "eval_df[\"y_pred\"].loc[eval_df[\"y_pred\"]<0][:5]\n"
   ]
  },
  {
   "cell_type": "code",
   "execution_count": 177,
   "id": "4814ecb2",
   "metadata": {},
   "outputs": [
    {
     "data": {
      "image/png": "[encoded data removed]",
      "text/plain": [
       "<Figure size 800x500 with 1 Axes>"
      ]
     },
     "metadata": {},
     "output_type": "display_data"
    }
   ],
   "source": [
    "##Predicted values vs. residuals\n",
    "fig, ax = plt.subplots(figsize=(8,5))\n",
    "ax.scatter(eval_df[\"y_pred\"], eval_df[\"residuals\"], s=3)\n",
    "ax.set_title('Predictions vs. residuals', fontsize=16)\n",
    "ax.set_xlabel('Predictions', fontsize=14)\n",
    "ax.set_ylabel('Residuals', fontsize=14)\n",
    "ax.axhline(color='k'); ax.axvline(color='k');\n",
    "ax.grid();"
   ]
  },
  {
   "cell_type": "markdown",
   "id": "43f8eeac",
   "metadata": {},
   "source": [
    "### K-fold cross validation for model evaluation"
   ]
  },
  {
   "cell_type": "code",
   "execution_count": 178,
   "id": "d4520c96",
   "metadata": {},
   "outputs": [
    {
     "name": "stdout",
     "output_type": "stream",
     "text": [
      "MAE: 0.00\n"
     ]
    }
   ],
   "source": [
    "## Train-test split\n",
    "X_train, X_test, y_train, y_test = train_test_split(X, y, test_size=0.1, random_state=2)\n",
    "\n",
    "## Standardize the numeric features \n",
    "scaler = StandardScaler()\n",
    "scaler.fit(X_train[numerical_features])\n",
    "X_train.loc[:, numerical_features] = scaler.fit_transform(X_train[numerical_features])\n",
    "X_test.loc[:, numerical_features] = scaler.transform(X_test[numerical_features])\n",
    "\n",
    "## Model training\n",
    "ml_reg = LinearRegression()\n",
    "ml_reg.fit(X_train, y_train)\n",
    "\n",
    "## predictions\n",
    "y_pred = ml_reg.predict(X_test)\n",
    "\n",
    "## Evaluate the model using the same metric\n",
    "mae = mean_absolute_error(y_true=y_test, y_pred=y_pred)\n",
    "print(\"MAE: {:,.2f}\".format(mae))"
   ]
  },
  {
   "cell_type": "code",
   "execution_count": 179,
   "id": "00b5ed31",
   "metadata": {},
   "outputs": [
    {
     "data": {
      "text/plain": [
       "array([1.04308128e-07, 1.30385160e-08, 1.86264515e-09, 1.86264515e-09,\n",
       "       2.48352687e-09, 1.67638063e-08, 6.20881716e-09, 3.10440858e-09,\n",
       "       3.47693761e-08, 2.53319740e-08])"
      ]
     },
     "execution_count": 179,
     "metadata": {},
     "output_type": "execute_result"
    }
   ],
   "source": [
    "from sklearn.model_selection import cross_validate, RepeatedKFold\n",
    "\n",
    "## Scaling the whole dataset\n",
    "scaler = StandardScaler()\n",
    "scaler.fit(X[numerical_features])\n",
    "X.loc[:, numerical_features] = scaler.fit_transform(X[numerical_features])\n",
    "\n",
    "## 10-fold cv\n",
    "ml_reg = LinearRegression()\n",
    "cv_results = cross_validate(ml_reg, X, y, scoring='neg_mean_absolute_error', cv=10)\n",
    "scores = -1*cv_results['test_score']\n",
    "scores"
   ]
  },
  {
   "cell_type": "code",
   "execution_count": 180,
   "id": "d5a2e644",
   "metadata": {},
   "outputs": [
    {
     "data": {
      "text/plain": [
       "2.0973384380340576e-08"
      ]
     },
     "execution_count": 180,
     "metadata": {},
     "output_type": "execute_result"
    }
   ],
   "source": [
    "scores.mean()\n"
   ]
  }
 ],
 "metadata": {
  "kernelspec": {
   "display_name": "Python (myenv)",
   "language": "python",
   "name": "myenv"
  },
  "language_info": {
   "codemirror_mode": {
    "name": "ipython",
    "version": 3
   },
   "file_extension": ".py",
   "mimetype": "text/x-python",
   "name": "python",
   "nbconvert_exporter": "python",
   "pygments_lexer": "ipython3",
   "version": "3.11.5"
  }
 },
 "nbformat": 4,
 "nbformat_minor": 5
}
