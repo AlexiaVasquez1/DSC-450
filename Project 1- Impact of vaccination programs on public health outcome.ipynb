{
 "cells": [
  {
   "attachments": {},
   "cell_type": "markdown",
   "id": "c7b6872b",
   "metadata": {},
   "source": [
    "### About Dataset\n",
    "\n",
    "#### Context\n",
    "All about a focus on the impact of incentice programs across the US states to enhance vaccinations for COVID-19. It is important to track and understand the effort that is in progress across the country to administer doses of vaccinations.  This information are from the CDC that is captured and presented here. Additionally, we have tried to include the report of the JAMA Network reporting on where the incentive programs were implanted accros the country.\n",
    "\n",
    "#### Content\n",
    "There are two files.\n",
    "a) Latest Global Covid-19 Vaccine tracker of US Juridictions as of May 10, 2023\n",
    "b) US State Use of COVID-19 Vaccine Incentives (JAMA Netw Open)\n",
    "\n",
    "#### Feature Information for COVID19 vaccination Tracker file\n",
    "Jurisdiction (State/Territory) or Federal Entity,Total doses distributed,Doses distributed per 100k pop,Doses distributed by jurisdiction per 100k of 18+ pop,Total doses administered by jurisdiction, Doses administered by jurisdiction per 100k pop, Doses administered by jurisdiction to 18+ pop, Doses administered by jurisdiction per 100k of 18+ pop, Residents with at least one dose, Percent of total pop with at least one dose, Residents 18+ with at least one dose\tPercent of 18+ pop with at least one dose, Residents with a completed primary series, Percent of total pop with a completed primary series\tResidents 18+ with a completed primary series, Percent of 18+ pop with a completed primary series, Total number of original Pfizer doses distributed, Total number of Pfizer updated booster doses distributed, Total number of original Moderna doses distributed\tTotal number of Moderna updated booster doses distributed, Total number of Janssen doses distributed, Total number of Novavax doses distributed\tTotal number of doses from other manufacturer distributed, Total number of Janssen doses administered, Total number of original Moderna doses administered, Total number of Moderna updated booster doses administered, Total number of original Pfizer doses administered, Total number of Pfizer updated booster doses administered, Total number of Novavax doses administered, Total number of doses from other manufacturer administered, Residents 65+ with at least one dose, Percent of 65+ pop with at least one dose\tResidents 65+ with a completed primary series\tPercent of 65+ pop with a completed primary series\tDoses administered by jurisdiction to 65+ pop\tDoses administered by jurisdiction per 100k of 65+ pop, Doses distributed by jurisdiction per 100k of 65+ pop, Residents 12+ with at least one dose, Percent of 12+ pop with at least one dose, Residents 12+ with a completed primary series, Percent of 12+ pop with a completed primary series\tDoses administered by jurisdiction to 12+ pop\tDoses administered by jurisdiction per 100k of 12+ pop\tDoses distributed by jurisdiction per 100k of 12+ pop\tResidents 5+ with at least one dose\tPercent of 5+ pop with at least one dose\tResidents 5+ with a completed primary series\tPercent of 5+ pop with a completed primary series\tDoses administered by jurisdiction to 5+ pop, Doses administered by jurisdiction per 100k of 5+ pop\tDoses distributed by jurisdiction per 100k of 5+ pop, Residents with an updated (bivalent) booster dose\tPercent of pop with an updated (bivalent) booster dose\tResidents 5+ with an updated (bivalent) booster dose\tPercent of 5+ pop with an updated (bivalent) booster dose\tResidents 12+ with an updated (bivalent) booster dose\tPercent of 12+ pop with an updated (bivalent) booster dose\tResidents 18+ with an updated (bivalent) booster dose\tPercent of 18+ pop with an updated (bivalent) booster dose\tResidents 65+ with an updated (bivalent) booster dose\tPercent of 65+ pop with an updated (bivalent) booster dose\tChildren <5 with at least one dose\tTotal number of updated (bivalent) booster doses administered\t\n",
    "\n",
    "#### Feature Information for US State Use of COVID-19 Vaccine Incentives (JAMA Netw Open)\n",
    "Political Affiliation, Non-incentive, Covid-19 mitigation policy,Lottery,Guaranteed\n",
    "\n",
    "#### Source\n",
    "URL1: https://covid.cdc.gov/covid-data-tracker/#vaccinations_vacc-total-admin-rate-total\n",
    "\n",
    "URL2: US State Use of COVID-19 Vaccine Incentives (JAMA Netw Open. 2022 Oct; 5(10):e2235328)\n",
    "\n",
    "\n"
   ]
  },
  {
   "cell_type": "code",
   "execution_count": 1,
   "id": "6702981d",
   "metadata": {},
   "outputs": [],
   "source": [
    "#import libraries\n",
    "import pandas as pd\n",
    "import numpy as np\n",
    "import matplotlib.pyplot as plt\n",
    "import seaborn as sns\n",
    "import os\n",
    "%matplotlib inline"
   ]
  },
  {
   "cell_type": "code",
   "execution_count": null,
   "id": "6746c796",
   "metadata": {},
   "outputs": [],
   "source": [
    "# import data\n",
    "data=pd.read_csv()\n",
    "data.rename(columns=lambda x: x.lower(), inplace=True)\n",
    "data.rename(columns={}, inplace=True)\n",
    "\n",
    "data.head()"
   ]
  }
 ],
 "metadata": {
  "kernelspec": {
   "display_name": "Python (myenv)",
   "language": "python",
   "name": "myenv"
  },
  "language_info": {
   "codemirror_mode": {
    "name": "ipython",
    "version": 3
   },
   "file_extension": ".py",
   "mimetype": "text/x-python",
   "name": "python",
   "nbconvert_exporter": "python",
   "pygments_lexer": "ipython3",
   "version": "3.11.5"
  }
 },
 "nbformat": 4,
 "nbformat_minor": 5
}
